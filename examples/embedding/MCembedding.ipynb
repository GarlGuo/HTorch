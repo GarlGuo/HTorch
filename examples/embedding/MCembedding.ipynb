{
 "cells": [
  {
   "cell_type": "markdown",
   "metadata": {},
   "source": [
    "## HTorch hyperbolic embedding for the WordNet Mammals"
   ]
  },
  {
   "cell_type": "code",
   "execution_count": 1,
   "metadata": {},
   "outputs": [],
   "source": [
    "import timeit\n",
    "import torch, HTorch\n",
    "import torch.nn.functional as F\n",
    "from tqdm import tqdm\n",
    "import numpy as np\n",
    "import logging\n",
    "from HTorch import MCHParameter, MCHTensor, MCTensor\n",
    "from hype.graph import load_edge_list, eval_reconstruction\n",
    "from HTorch.layers import HEmbedding\n",
    "from HTorch.optimizers import RiemannianSGD, RiemannianAdam\n",
    "import sys, os, random\n",
    "import json\n",
    "import torch.multiprocessing as mp\n",
    "from hype.graph_dataset import BatchedDataset"
   ]
  },
  {
   "cell_type": "code",
   "execution_count": 2,
   "metadata": {},
   "outputs": [],
   "source": [
    "class MCHEmbedding(torch.nn.Embedding):\n",
    "    def __init__(self, *args, manifold='PoincareBall', curvature=-1.0, nc=1, **kwargs):\n",
    "        super(MCHEmbedding, self).__init__(*args, **kwargs)\n",
    "        self.weight = MCHParameter(self.weight, manifold=manifold, curvature=curvature, nc=nc)\n",
    "        self.weight.init_weights()\n",
    "    \n",
    "    def forward(self, input):\n",
    "        tmp = self.weight[input]\n",
    "        output = tmp.as_subclass(MCHTensor)\n",
    "        output.res = tmp.res\n",
    "        output._nc = tmp._nc\n",
    "        output.manifold = self.weight.manifold\n",
    "        output.curvature = self.weight.curvature\n",
    "        return output"
   ]
  },
  {
   "cell_type": "code",
   "execution_count": 3,
   "metadata": {},
   "outputs": [],
   "source": [
    "# model defined using HTorch\n",
    "class MCEnergyFunction(torch.nn.Module):\n",
    "    def __init__(self, size, dim, sparse=False, manifold='PoincareBall', curvature=-1.0, nc=1, **kwargs):\n",
    "        super().__init__()\n",
    "        # initialize layer, weights are automatically initialized around origin\n",
    "        self.lt = MCHEmbedding(size, dim, sparse=sparse, manifold=manifold, curvature=curvature, nc=nc) \n",
    "        self.nobjects = size\n",
    "\n",
    "    def forward(self, inputs):\n",
    "        e = self.lt(inputs)\n",
    "        print(e)\n",
    "        with torch.no_grad():\n",
    "            e.proj_()\n",
    "        o = e.narrow(1, 1, e.size(1) - 1)\n",
    "        s = e.narrow(1, 0, 1).expand_as(o)\n",
    "        ret = o.Hdist(s).squeeze(-1)\n",
    "        print('o ', o.shape)\n",
    "        print('s ', s.shape)\n",
    "        print('o.Hdist(s) ', o.Hdist(s).shape)\n",
    "        return ret\n",
    "\n",
    "    def loss(self, inp, target, **kwargs):\n",
    "        print('inp ', inp.shape)\n",
    "        print('target ', target.shape)\n",
    "        return F.cross_entropy(inp.neg(), target)"
   ]
  },
  {
   "cell_type": "code",
   "execution_count": 4,
   "metadata": {},
   "outputs": [],
   "source": [
    "# set meta-parameters, float precision etc.\n",
    "os.environ[\"NUMEXPR_MAX_THREADS\"] = '8'\n",
    "\n",
    "def seed_everything(seed=1234):\n",
    "    random.seed(seed)\n",
    "    os.environ['PYTHONHASHSEED'] = str(seed)\n",
    "    np.random.seed(seed)\n",
    "    torch.manual_seed(seed)\n",
    "    torch.cuda.manual_seed(seed)\n",
    "    torch.backends.cudnn.deterministic = True\n",
    "\n",
    "# note d16, d32 may produce infs and NaNs due to imprecision\n",
    "d16 = torch.float16; d32 = torch.float32; d64 = torch.float64\n",
    "cpu = torch.device(\"cpu\"); gpu = torch.device(type='cuda', index=0)\n",
    "device = cpu\n",
    "opt_dtype = d64\n",
    "\n",
    "if opt_dtype == d16:\n",
    "    dtype = \"d16\"\n",
    "    torch.set_default_tensor_type('torch.HalfTensor')\n",
    "elif opt_dtype == d32:\n",
    "    dtype = \"d32\"\n",
    "    torch.set_default_tensor_type('torch.FloatTensor')\n",
    "else:\n",
    "    dtype = \"d64\"\n",
    "    torch.set_default_tensor_type('torch.DoubleTensor')\n",
    "    \n",
    "torch.manual_seed(42)\n",
    "np.random.seed(42)"
   ]
  },
  {
   "cell_type": "markdown",
   "metadata": {},
   "source": [
    "### Hyperparameters for PyTorch Poincare Halfspace model: (now use opt_epochs = 20)"
   ]
  },
  {
   "cell_type": "code",
   "execution_count": 5,
   "metadata": {},
   "outputs": [],
   "source": [
    "## parameters; these are global in the notebook!\n",
    "opt_maxnorm = 500000; opt_debug = False;\n",
    "opt_dim = 2;\n",
    "opt_negs = 50;  opt_eval_each = 20;\n",
    "opt_sparse = True; opt_ndproc = 1;  opt_burnin = 20;\n",
    "opt_dampening = 0.75; opt_neg_multiplier = 1.0; \n",
    "opt_burnin_multiplier = 0.01; \n",
    "###########################################################\n",
    "opt_epochs = 2000; opt_batchsize = 32; \n",
    "opt_lr = 2.0;  opt_dscale = 0.3\n",
    "#opt_manifold = \"PoincareBall\"\n",
    "# opt_manifold = \"Lorentz\"\n",
    "opt_manifold = \"HalfSpace\"\n",
    "opt_curvature = -1.0\n",
    "opt_task = 'mammals'\n",
    "#######################################\n",
    "nc = 2;\n",
    "#######################################\n",
    "FILE_NAME = \"_\".join([opt_task, 'lr', str(opt_lr), 'batch', str(opt_batchsize),\n",
    "                      str(opt_epochs), \"torch\", dtype, str(opt_dscale)])"
   ]
  },
  {
   "cell_type": "markdown",
   "metadata": {},
   "source": [
    "### Initializing logging and data loading"
   ]
  },
  {
   "cell_type": "code",
   "execution_count": 6,
   "metadata": {},
   "outputs": [
    {
     "name": "stdout",
     "output_type": "stream",
     "text": [
      "Using edge list dataloader\n"
     ]
    }
   ],
   "source": [
    "log_level = logging.DEBUG if opt_debug else logging.INFO\n",
    "log = logging.getLogger('Embedding')\n",
    "logging.basicConfig(level=log_level, format='%(message)s', stream=sys.stdout)\n",
    "log.info('Using edge list dataloader')\n",
    "idx, objects, weights = load_edge_list(\"wordnet/mammal_closure.csv\", False) \n",
    "#idx, objects, weights = load_edge_list(\"/home/jl3789/Hyperbolic_Library/applications/poincare_embedding/wordnet/mammal_closure.csv\", False) "
   ]
  },
  {
   "cell_type": "markdown",
   "metadata": {},
   "source": [
    "### Initializing model"
   ]
  },
  {
   "cell_type": "code",
   "execution_count": 7,
   "metadata": {},
   "outputs": [],
   "source": [
    "def init_model(manifold, curvature, dim, idx, objects, weights, nc=1, sparse=True):\n",
    "    model_name = '%s_dim%d'\n",
    "    mname = model_name % (manifold, dim)\n",
    "    data = BatchedDataset(idx, objects, weights, opt_negs, opt_batchsize,\n",
    "        opt_ndproc, opt_burnin > 0, opt_dampening)\n",
    "    model = MCEnergyFunction(len(data.objects), opt_dim, sparse=sparse, manifold=manifold, curvature=curvature, nc=nc)\n",
    "    data.objects = objects\n",
    "    return model, data, mname\n",
    "\n",
    "def adj_matrix(data):\n",
    "    adj = {}\n",
    "    for inputs, _ in data:\n",
    "        for row in inputs:\n",
    "            x = row[0].item()\n",
    "            y = row[1].item()\n",
    "            if x in adj:\n",
    "                adj[x].add(y)\n",
    "            else:\n",
    "                adj[x] = {y}\n",
    "    return adj"
   ]
  },
  {
   "cell_type": "markdown",
   "metadata": {},
   "source": [
    "### Training"
   ]
  },
  {
   "cell_type": "code",
   "execution_count": 8,
   "metadata": {},
   "outputs": [],
   "source": [
    "def data_loader_lr(data, epoch, progress = False):\n",
    "    data.burnin = False \n",
    "    lr = opt_lr\n",
    "    if epoch < opt_burnin:\n",
    "        data.burnin = True\n",
    "        lr = opt_lr * train._lr_multiplier\n",
    "    loader_iter = tqdm(data) if progress else data\n",
    "    return loader_iter, lr"
   ]
  },
  {
   "cell_type": "code",
   "execution_count": 9,
   "metadata": {},
   "outputs": [],
   "source": [
    "def train(device, model, data, optimizer, progress=False):\n",
    "    epoch_loss = torch.Tensor(len(data))\n",
    "    LOSS = np.zeros(opt_epochs)\n",
    "    for epoch in range(opt_epochs):\n",
    "        epoch_loss.fill_(0)\n",
    "        t_start = timeit.default_timer()\n",
    "        # handling burnin, get loader_iter and learning rate\n",
    "        loader_iter, lr = data_loader_lr(data, epoch, progress=progress)\n",
    "        for i_batch, (inputs, targets) in enumerate(loader_iter):\n",
    "            elapsed = timeit.default_timer() - t_start\n",
    "            inputs = inputs.to(device)\n",
    "            targets = targets.to(device)\n",
    "            optimizer.zero_grad()\n",
    "            preds = model(inputs) * opt_dscale\n",
    "            print('preds ', preds.shape)\n",
    "            loss = model.loss(preds, targets, size_average=True)\n",
    "            loss.backward()\n",
    "            optimizer.step(lr=lr)\n",
    "            epoch_loss[i_batch] = loss.cpu().item()\n",
    "            with torch.no_grad():\n",
    "                loss = model.loss(preds.to(d64), targets, size_average=True)\n",
    "                epoch_loss[i_batch] = loss.cpu().item()\n",
    "\n",
    "        LOSS[epoch] = torch.mean(epoch_loss).to(d64).item()\n",
    "        # since only one thread is used:\n",
    "        log.info('json_stats: {' f'\"epoch\": {epoch}, '\n",
    "                 f'\"elapsed\": {elapsed}, ' f'\"loss\": {LOSS[epoch]}, ' '}')\n",
    "    return LOSS\n"
   ]
  },
  {
   "cell_type": "markdown",
   "metadata": {},
   "source": [
    "# Training embedding"
   ]
  },
  {
   "cell_type": "code",
   "execution_count": 10,
   "metadata": {},
   "outputs": [
    {
     "name": "stdout",
     "output_type": "stream",
     "text": [
      "the total dimension 2\n",
      ">>>>>> # Tensor# | dtype is: torch.float64 | device is: cpu\n",
      "MCHTensor([[[ 9.9316e-06, -1.9150e-06],\n",
      "            [-4.9380e-06, -4.8978e-06],\n",
      "            [ 1.3026e-06, -1.7350e-06],\n",
      "            ...,\n",
      "            [ 8.2919e-06,  8.1628e-06],\n",
      "            [ 7.2484e-06,  9.9645e-06],\n",
      "            [ 8.1433e-06,  4.8891e-06]],\n",
      "\n",
      "           [[ 5.2274e-06,  7.1105e-06],\n",
      "            [-1.7018e-06, -7.9607e-06],\n",
      "            [-8.2994e-06, -4.5415e-07],\n",
      "            ...,\n",
      "            [-4.7700e-06, -8.1548e-06],\n",
      "            [ 4.1102e-06, -1.6698e-06],\n",
      "            [-8.7672e-06, -3.2500e-06]],\n",
      "\n",
      "           [[-6.1064e-06,  1.5997e-07],\n",
      "            [-3.1949e-06,  2.7967e-06],\n",
      "            [-7.8039e-06,  9.0580e-06],\n",
      "            ...,\n",
      "            [-5.7885e-06,  3.6442e-06],\n",
      "            [ 4.0324e-06, -5.5173e-06],\n",
      "            [ 9.3765e-06,  5.5753e-06]],\n",
      "\n",
      "           ...,\n",
      "\n",
      "           [[-3.5057e-08, -2.6513e-07],\n",
      "            [-4.4448e-06,  5.5955e-07],\n",
      "            [ 8.4337e-06, -2.3884e-06],\n",
      "            ...,\n",
      "            [-9.8060e-06, -1.0696e-06],\n",
      "            [ 6.0518e-06, -6.0820e-06],\n",
      "            [ 6.1951e-06, -2.9010e-06]],\n",
      "\n",
      "           [[ 2.5401e-06, -5.9964e-06],\n",
      "            [-4.4448e-06,  5.5955e-07],\n",
      "            [-4.1451e-06, -6.2208e-06],\n",
      "            ...,\n",
      "            [-6.9702e-06, -8.7824e-07],\n",
      "            [ 9.9165e-06,  8.4336e-06],\n",
      "            [-4.2634e-07, -8.5357e-06]],\n",
      "\n",
      "           [[-6.1064e-06,  1.5997e-07],\n",
      "            [-5.7366e-06, -8.1904e-06],\n",
      "            [-6.7791e-06,  9.2092e-06],\n",
      "            ...,\n",
      "            [ 7.4986e-06,  4.8350e-06],\n",
      "            [-6.1723e-06,  8.2749e-06],\n",
      "            [-1.5838e-06, -4.4794e-06]]], grad_fn=<AliasBackward0>), nc=2, manifold=HalfSpace, curvature=-1.0\n"
     ]
    },
    {
     "ename": "RuntimeError",
     "evalue": "The size of tensor a (51) must match the size of tensor b (32) at non-singleton dimension 1",
     "output_type": "error",
     "traceback": [
      "\u001b[0;31m---------------------------------------------------------------------------\u001b[0m",
      "\u001b[0;31mRuntimeError\u001b[0m                              Traceback (most recent call last)",
      "\u001b[1;32m/home/wg247/HTorch_internal/examples/embedding/MCembedding.ipynb Cell 16\u001b[0m in \u001b[0;36m<cell line: 16>\u001b[0;34m()\u001b[0m\n\u001b[1;32m     <a href='vscode-notebook-cell://ssh-remote%2Bg2-login-01.coecis.cornell.edu/home/wg247/HTorch_internal/examples/embedding/MCembedding.ipynb#X21sdnNjb2RlLXJlbW90ZQ%3D%3D?line=13'>14</a>\u001b[0m \u001b[39m# begin training\u001b[39;00m\n\u001b[1;32m     <a href='vscode-notebook-cell://ssh-remote%2Bg2-login-01.coecis.cornell.edu/home/wg247/HTorch_internal/examples/embedding/MCembedding.ipynb#X21sdnNjb2RlLXJlbW90ZQ%3D%3D?line=14'>15</a>\u001b[0m start_time \u001b[39m=\u001b[39m timeit\u001b[39m.\u001b[39mdefault_timer()\n\u001b[0;32m---> <a href='vscode-notebook-cell://ssh-remote%2Bg2-login-01.coecis.cornell.edu/home/wg247/HTorch_internal/examples/embedding/MCembedding.ipynb#X21sdnNjb2RlLXJlbW90ZQ%3D%3D?line=15'>16</a>\u001b[0m loss \u001b[39m=\u001b[39m train(device, model, data, optimizer, progress\u001b[39m=\u001b[39;49m\u001b[39mFalse\u001b[39;49;00m)\n\u001b[1;32m     <a href='vscode-notebook-cell://ssh-remote%2Bg2-login-01.coecis.cornell.edu/home/wg247/HTorch_internal/examples/embedding/MCembedding.ipynb#X21sdnNjb2RlLXJlbW90ZQ%3D%3D?line=16'>17</a>\u001b[0m train_time \u001b[39m=\u001b[39m timeit\u001b[39m.\u001b[39mdefault_timer() \u001b[39m-\u001b[39m start_time\n\u001b[1;32m     <a href='vscode-notebook-cell://ssh-remote%2Bg2-login-01.coecis.cornell.edu/home/wg247/HTorch_internal/examples/embedding/MCembedding.ipynb#X21sdnNjb2RlLXJlbW90ZQ%3D%3D?line=17'>18</a>\u001b[0m \u001b[39mprint\u001b[39m(\u001b[39m\"\u001b[39m\u001b[39mTotal training time is:\u001b[39m\u001b[39m\"\u001b[39m, train_time)\n",
      "\u001b[1;32m/home/wg247/HTorch_internal/examples/embedding/MCembedding.ipynb Cell 16\u001b[0m in \u001b[0;36mtrain\u001b[0;34m(device, model, data, optimizer, progress)\u001b[0m\n\u001b[1;32m     <a href='vscode-notebook-cell://ssh-remote%2Bg2-login-01.coecis.cornell.edu/home/wg247/HTorch_internal/examples/embedding/MCembedding.ipynb#X21sdnNjb2RlLXJlbW90ZQ%3D%3D?line=11'>12</a>\u001b[0m targets \u001b[39m=\u001b[39m targets\u001b[39m.\u001b[39mto(device)\n\u001b[1;32m     <a href='vscode-notebook-cell://ssh-remote%2Bg2-login-01.coecis.cornell.edu/home/wg247/HTorch_internal/examples/embedding/MCembedding.ipynb#X21sdnNjb2RlLXJlbW90ZQ%3D%3D?line=12'>13</a>\u001b[0m optimizer\u001b[39m.\u001b[39mzero_grad()\n\u001b[0;32m---> <a href='vscode-notebook-cell://ssh-remote%2Bg2-login-01.coecis.cornell.edu/home/wg247/HTorch_internal/examples/embedding/MCembedding.ipynb#X21sdnNjb2RlLXJlbW90ZQ%3D%3D?line=13'>14</a>\u001b[0m preds \u001b[39m=\u001b[39m model(inputs) \u001b[39m*\u001b[39m opt_dscale\n\u001b[1;32m     <a href='vscode-notebook-cell://ssh-remote%2Bg2-login-01.coecis.cornell.edu/home/wg247/HTorch_internal/examples/embedding/MCembedding.ipynb#X21sdnNjb2RlLXJlbW90ZQ%3D%3D?line=14'>15</a>\u001b[0m \u001b[39mprint\u001b[39m(\u001b[39m'\u001b[39m\u001b[39mpreds \u001b[39m\u001b[39m'\u001b[39m, preds\u001b[39m.\u001b[39mshape)\n\u001b[1;32m     <a href='vscode-notebook-cell://ssh-remote%2Bg2-login-01.coecis.cornell.edu/home/wg247/HTorch_internal/examples/embedding/MCembedding.ipynb#X21sdnNjb2RlLXJlbW90ZQ%3D%3D?line=15'>16</a>\u001b[0m loss \u001b[39m=\u001b[39m model\u001b[39m.\u001b[39mloss(preds, targets, size_average\u001b[39m=\u001b[39m\u001b[39mTrue\u001b[39;00m)\n",
      "File \u001b[0;32m~/.conda/envs/wg247-3/lib/python3.9/site-packages/torch/nn/modules/module.py:1501\u001b[0m, in \u001b[0;36mModule._call_impl\u001b[0;34m(self, *args, **kwargs)\u001b[0m\n\u001b[1;32m   1496\u001b[0m \u001b[39m# If we don't have any hooks, we want to skip the rest of the logic in\u001b[39;00m\n\u001b[1;32m   1497\u001b[0m \u001b[39m# this function, and just call forward.\u001b[39;00m\n\u001b[1;32m   1498\u001b[0m \u001b[39mif\u001b[39;00m \u001b[39mnot\u001b[39;00m (\u001b[39mself\u001b[39m\u001b[39m.\u001b[39m_backward_hooks \u001b[39mor\u001b[39;00m \u001b[39mself\u001b[39m\u001b[39m.\u001b[39m_backward_pre_hooks \u001b[39mor\u001b[39;00m \u001b[39mself\u001b[39m\u001b[39m.\u001b[39m_forward_hooks \u001b[39mor\u001b[39;00m \u001b[39mself\u001b[39m\u001b[39m.\u001b[39m_forward_pre_hooks\n\u001b[1;32m   1499\u001b[0m         \u001b[39mor\u001b[39;00m _global_backward_pre_hooks \u001b[39mor\u001b[39;00m _global_backward_hooks\n\u001b[1;32m   1500\u001b[0m         \u001b[39mor\u001b[39;00m _global_forward_hooks \u001b[39mor\u001b[39;00m _global_forward_pre_hooks):\n\u001b[0;32m-> 1501\u001b[0m     \u001b[39mreturn\u001b[39;00m forward_call(\u001b[39m*\u001b[39;49margs, \u001b[39m*\u001b[39;49m\u001b[39m*\u001b[39;49mkwargs)\n\u001b[1;32m   1502\u001b[0m \u001b[39m# Do not call functions when jit is used\u001b[39;00m\n\u001b[1;32m   1503\u001b[0m full_backward_hooks, non_full_backward_hooks \u001b[39m=\u001b[39m [], []\n",
      "\u001b[1;32m/home/wg247/HTorch_internal/examples/embedding/MCembedding.ipynb Cell 16\u001b[0m in \u001b[0;36mMCEnergyFunction.forward\u001b[0;34m(self, inputs)\u001b[0m\n\u001b[1;32m     <a href='vscode-notebook-cell://ssh-remote%2Bg2-login-01.coecis.cornell.edu/home/wg247/HTorch_internal/examples/embedding/MCembedding.ipynb#X21sdnNjb2RlLXJlbW90ZQ%3D%3D?line=13'>14</a>\u001b[0m o \u001b[39m=\u001b[39m e\u001b[39m.\u001b[39mnarrow(\u001b[39m1\u001b[39m, \u001b[39m1\u001b[39m, e\u001b[39m.\u001b[39msize(\u001b[39m1\u001b[39m) \u001b[39m-\u001b[39m \u001b[39m1\u001b[39m)\n\u001b[1;32m     <a href='vscode-notebook-cell://ssh-remote%2Bg2-login-01.coecis.cornell.edu/home/wg247/HTorch_internal/examples/embedding/MCembedding.ipynb#X21sdnNjb2RlLXJlbW90ZQ%3D%3D?line=14'>15</a>\u001b[0m s \u001b[39m=\u001b[39m e\u001b[39m.\u001b[39mnarrow(\u001b[39m1\u001b[39m, \u001b[39m0\u001b[39m, \u001b[39m1\u001b[39m)\u001b[39m.\u001b[39mexpand_as(o)\n\u001b[0;32m---> <a href='vscode-notebook-cell://ssh-remote%2Bg2-login-01.coecis.cornell.edu/home/wg247/HTorch_internal/examples/embedding/MCembedding.ipynb#X21sdnNjb2RlLXJlbW90ZQ%3D%3D?line=15'>16</a>\u001b[0m ret \u001b[39m=\u001b[39m o\u001b[39m.\u001b[39;49mHdist(s)\u001b[39m.\u001b[39msqueeze(\u001b[39m-\u001b[39m\u001b[39m1\u001b[39m)\n\u001b[1;32m     <a href='vscode-notebook-cell://ssh-remote%2Bg2-login-01.coecis.cornell.edu/home/wg247/HTorch_internal/examples/embedding/MCembedding.ipynb#X21sdnNjb2RlLXJlbW90ZQ%3D%3D?line=16'>17</a>\u001b[0m \u001b[39mprint\u001b[39m(\u001b[39m'\u001b[39m\u001b[39mo \u001b[39m\u001b[39m'\u001b[39m, o\u001b[39m.\u001b[39mshape)\n\u001b[1;32m     <a href='vscode-notebook-cell://ssh-remote%2Bg2-login-01.coecis.cornell.edu/home/wg247/HTorch_internal/examples/embedding/MCembedding.ipynb#X21sdnNjb2RlLXJlbW90ZQ%3D%3D?line=17'>18</a>\u001b[0m \u001b[39mprint\u001b[39m(\u001b[39m'\u001b[39m\u001b[39ms \u001b[39m\u001b[39m'\u001b[39m, s\u001b[39m.\u001b[39mshape)\n",
      "File \u001b[0;32m~/.conda/envs/wg247-3/lib/python3.9/site-packages/HTorch/MCHTensor.py:78\u001b[0m, in \u001b[0;36mMCHTensor.Hdist\u001b[0;34m(self, other)\u001b[0m\n\u001b[1;32m     76\u001b[0m \u001b[39massert\u001b[39;00m \u001b[39mself\u001b[39m\u001b[39m.\u001b[39mcurvature \u001b[39m==\u001b[39m other\u001b[39m.\u001b[39mcurvature, \u001b[39m\"\u001b[39m\u001b[39mInputs should in models with same curvature!\u001b[39m\u001b[39m\"\u001b[39m\n\u001b[1;32m     77\u001b[0m \u001b[39mif\u001b[39;00m \u001b[39mself\u001b[39m\u001b[39m.\u001b[39mmanifold\u001b[39m.\u001b[39mname \u001b[39m==\u001b[39m other\u001b[39m.\u001b[39mmanifold\u001b[39m.\u001b[39mname:\n\u001b[0;32m---> 78\u001b[0m     dist \u001b[39m=\u001b[39m \u001b[39mself\u001b[39;49m\u001b[39m.\u001b[39;49mmanifold\u001b[39m.\u001b[39;49mdistance(\u001b[39mself\u001b[39;49m, other, \u001b[39mabs\u001b[39;49m(\u001b[39mself\u001b[39;49m\u001b[39m.\u001b[39;49mcurvature))\n\u001b[1;32m     79\u001b[0m \u001b[39melse\u001b[39;00m:\n\u001b[1;32m     80\u001b[0m     \u001b[39m#### transform to a self's manifold, combine with lazy evaulation?\u001b[39;00m\n\u001b[1;32m     81\u001b[0m     other_ \u001b[39m=\u001b[39m other\u001b[39m.\u001b[39mto_other_manifold(\u001b[39mself\u001b[39m\u001b[39m.\u001b[39mmanifold\u001b[39m.\u001b[39mname)\n",
      "File \u001b[0;32m~/.conda/envs/wg247-3/lib/python3.9/site-packages/HTorch/manifolds/halfspace.py:42\u001b[0m, in \u001b[0;36mHalfSpace.distance\u001b[0;34m(self, x, y, c)\u001b[0m\n\u001b[1;32m     40\u001b[0m \u001b[39mdef\u001b[39;00m \u001b[39mdistance\u001b[39m(\u001b[39mself\u001b[39m, x:Tensor, y:Tensor, c:Union[\u001b[39mfloat\u001b[39m,Tensor]) \u001b[39m-\u001b[39m\u001b[39m>\u001b[39m Tensor:\n\u001b[1;32m     41\u001b[0m     sqnorm \u001b[39m=\u001b[39m sq_norm(x\u001b[39m-\u001b[39my)\n\u001b[0;32m---> 42\u001b[0m     dist_c \u001b[39m=\u001b[39m arcosh(\u001b[39m1\u001b[39m \u001b[39m+\u001b[39m sqnorm\u001b[39m/\u001b[39;49m(\u001b[39m2\u001b[39;49m\u001b[39m*\u001b[39;49mx[\u001b[39m.\u001b[39;49m\u001b[39m.\u001b[39;49m\u001b[39m.\u001b[39;49m, \u001b[39m-\u001b[39;49m\u001b[39m1\u001b[39;49m]\u001b[39m*\u001b[39;49my[\u001b[39m.\u001b[39;49m\u001b[39m.\u001b[39;49m\u001b[39m.\u001b[39;49m, \u001b[39m-\u001b[39;49m\u001b[39m1\u001b[39;49m])\u001b[39m.\u001b[39;49munsqueeze(\u001b[39m-\u001b[39;49m\u001b[39m1\u001b[39;49m))\n\u001b[1;32m     43\u001b[0m     dist \u001b[39m=\u001b[39m dist_c \u001b[39m/\u001b[39m c\u001b[39m*\u001b[39m\u001b[39m*\u001b[39m\u001b[39m0.5\u001b[39m\n\u001b[1;32m     44\u001b[0m     \u001b[39mreturn\u001b[39;00m dist\n",
      "File \u001b[0;32m~/.conda/envs/wg247-3/lib/python3.9/site-packages/HTorch/MCTensor/MCTensor.py:145\u001b[0m, in \u001b[0;36mMCTensor.__truediv__\u001b[0;34m(self, other)\u001b[0m\n\u001b[1;32m    143\u001b[0m     obj \u001b[39m=\u001b[39m \u001b[39msuper\u001b[39m()\u001b[39m.\u001b[39m\u001b[39m__truediv__\u001b[39m(other)\n\u001b[1;32m    144\u001b[0m \u001b[39melse\u001b[39;00m:\n\u001b[0;32m--> 145\u001b[0m     obj \u001b[39m=\u001b[39m torch\u001b[39m.\u001b[39;49mdiv(\u001b[39mself\u001b[39;49m, other)\n\u001b[1;32m    146\u001b[0m \u001b[39mreturn\u001b[39;00m obj\n",
      "File \u001b[0;32m~/.conda/envs/wg247-3/lib/python3.9/site-packages/HTorch/MCHTensor.py:151\u001b[0m, in \u001b[0;36mMCHTensor.__torch_function__\u001b[0;34m(cls, func, types, args, kwargs)\u001b[0m\n\u001b[1;32m    149\u001b[0m \u001b[39mif\u001b[39;00m kwargs \u001b[39mis\u001b[39;00m \u001b[39mNone\u001b[39;00m:\n\u001b[1;32m    150\u001b[0m     kwargs \u001b[39m=\u001b[39m {}\n\u001b[0;32m--> 151\u001b[0m tmp \u001b[39m=\u001b[39m \u001b[39msuper\u001b[39;49m()\u001b[39m.\u001b[39;49m__torch_function__(func, types, args, kwargs)\n\u001b[1;32m    152\u001b[0m \u001b[39mif\u001b[39;00m \u001b[39mtype\u001b[39m(tmp) \u001b[39min\u001b[39;00m [MCTensor, MCHTensor] \u001b[39mand\u001b[39;00m \u001b[39mnot\u001b[39;00m \u001b[39mhasattr\u001b[39m(tmp, \u001b[39m'\u001b[39m\u001b[39mmanifold\u001b[39m\u001b[39m'\u001b[39m):\n\u001b[1;32m    153\u001b[0m     \u001b[39m# ret = cls(tmp)\u001b[39;00m\n\u001b[1;32m    154\u001b[0m     ret \u001b[39m=\u001b[39m MCHTensor(tmp)\n",
      "File \u001b[0;32m~/.conda/envs/wg247-3/lib/python3.9/site-packages/HTorch/MCTensor/MCTensor.py:372\u001b[0m, in \u001b[0;36mMCTensor.__torch_function__\u001b[0;34m(cls, func, types, args, kwargs)\u001b[0m\n\u001b[1;32m    370\u001b[0m     kwargs \u001b[39m=\u001b[39m {}\n\u001b[1;32m    371\u001b[0m \u001b[39mif\u001b[39;00m func \u001b[39min\u001b[39;00m HANDLED_FUNCTIONS:  \u001b[39m# torch.Tensor with MCTensor contents\u001b[39;00m\n\u001b[0;32m--> 372\u001b[0m     ret \u001b[39m=\u001b[39m HANDLED_FUNCTIONS[func](\u001b[39m*\u001b[39;49margs, \u001b[39m*\u001b[39;49m\u001b[39m*\u001b[39;49mkwargs)\n\u001b[1;32m    373\u001b[0m     \u001b[39mif\u001b[39;00m \u001b[39misinstance\u001b[39m(ret, Tensor) \u001b[39mand\u001b[39;00m \u001b[39mnot\u001b[39;00m \u001b[39misinstance\u001b[39m(ret, MCTensor):\n\u001b[1;32m    374\u001b[0m         \u001b[39mreturn\u001b[39;00m \u001b[39mcls\u001b[39m\u001b[39m.\u001b[39mwrap_tensor_to_mctensor(ret)\n",
      "File \u001b[0;32m~/.conda/envs/wg247-3/lib/python3.9/site-packages/HTorch/MCTensor/MCTensor.py:568\u001b[0m, in \u001b[0;36mdiv\u001b[0;34m(x, y)\u001b[0m\n\u001b[1;32m    566\u001b[0m         \u001b[39mif\u001b[39;00m y_tensor\u001b[39m.\u001b[39mdim() \u001b[39m==\u001b[39m \u001b[39m1\u001b[39m:\n\u001b[1;32m    567\u001b[0m             y_tensor\u001b[39m.\u001b[39munsqueeze_(\u001b[39m0\u001b[39m)\n\u001b[0;32m--> 568\u001b[0m         result \u001b[39m=\u001b[39m _DivMCN(x_tensor, y_tensor, case\u001b[39m=\u001b[39;49mnormalize_case)\n\u001b[1;32m    569\u001b[0m \u001b[39melse\u001b[39;00m:\n\u001b[1;32m    570\u001b[0m     \u001b[39mraise\u001b[39;00m \u001b[39mNotImplemented\u001b[39m\n",
      "File \u001b[0;32m~/.conda/envs/wg247-3/lib/python3.9/site-packages/HTorch/MCTensor/MCOpBasics.py:320\u001b[0m, in \u001b[0;36m_DivMCN\u001b[0;34m(x_tensor, y_tensor, case)\u001b[0m\n\u001b[1;32m    318\u001b[0m \u001b[39mdef\u001b[39;00m \u001b[39m_DivMCN\u001b[39m(x_tensor, y_tensor, case\u001b[39m=\u001b[39m\u001b[39m0\u001b[39m):\n\u001b[1;32m    319\u001b[0m     nc \u001b[39m=\u001b[39m y_tensor\u001b[39m.\u001b[39msize(\u001b[39m-\u001b[39m\u001b[39m1\u001b[39m)\n\u001b[0;32m--> 320\u001b[0m     h \u001b[39m=\u001b[39m torch\u001b[39m.\u001b[39mzeros((x_tensor[\u001b[39m.\u001b[39;49m\u001b[39m.\u001b[39;49m\u001b[39m.\u001b[39;49m, \u001b[39m0\u001b[39;49m] \u001b[39m/\u001b[39;49m y_tensor[\u001b[39m.\u001b[39;49m\u001b[39m.\u001b[39;49m\u001b[39m.\u001b[39;49m, \u001b[39m0\u001b[39;49m])\u001b[39m.\u001b[39mshape \u001b[39m+\u001b[39m (nc, ), \n\u001b[1;32m    321\u001b[0m                     device\u001b[39m=\u001b[39mx_tensor\u001b[39m.\u001b[39mdevice, dtype\u001b[39m=\u001b[39mx_tensor\u001b[39m.\u001b[39mdtype)\n\u001b[1;32m    322\u001b[0m     \u001b[39m# approx quotient q0\u001b[39;00m\n\u001b[1;32m    323\u001b[0m     q \u001b[39m=\u001b[39m x_tensor[\u001b[39m.\u001b[39m\u001b[39m.\u001b[39m\u001b[39m.\u001b[39m, \u001b[39m0\u001b[39m] \u001b[39m/\u001b[39m y_tensor[\u001b[39m.\u001b[39m\u001b[39m.\u001b[39m\u001b[39m.\u001b[39m, \u001b[39m0\u001b[39m]\n",
      "\u001b[0;31mRuntimeError\u001b[0m: The size of tensor a (51) must match the size of tensor b (32) at non-singleton dimension 1"
     ]
    }
   ],
   "source": [
    "# setup model\n",
    "seed_everything(1)\n",
    "model, data, model_name = init_model(opt_manifold, opt_curvature, opt_dim, idx, objects, weights, sparse=opt_sparse, nc=nc)\n",
    "data.neg_multiplier = opt_neg_multiplier\n",
    "train._lr_multiplier = opt_burnin_multiplier\n",
    "model = model.to(device)\n",
    "print('the total dimension', model.lt.weight.data.size(-1))\n",
    "print(\">>>>>> # Tensor# | dtype is:\", model.lt.weight.dtype, \"| device is:\", model.lt.weight.device)\n",
    "# setup optimizer, both works, though a small lr should be used for RiemannianAdam (which is not tuned yet)\n",
    "#optimizer = RiemannianAdam(model.parameters(), lr=opt_lr)\n",
    "optimizer = RiemannianSGD(model.parameters(), lr=opt_lr)\n",
    "# get adjacency matrix\n",
    "adj = adj_matrix(data)\n",
    "# begin training\n",
    "start_time = timeit.default_timer()\n",
    "loss = train(device, model, data, optimizer, progress=False)\n",
    "train_time = timeit.default_timer() - start_time\n",
    "print(\"Total training time is:\", train_time)"
   ]
  },
  {
   "cell_type": "code",
   "execution_count": null,
   "metadata": {},
   "outputs": [
    {
     "name": "stdout",
     "output_type": "stream",
     "text": [
      "here\n",
      "1\n",
      "torch.Size([2, 1, 2])\n",
      "torch.Size([2, 1, 2])\n",
      "torch.Size([2, 1])\n"
     ]
    },
    {
     "ename": "IndexError",
     "evalue": "The shape of the mask [2, 1] at index 1 does not match the shape of the indexed tensor [2, 2] at index 1",
     "output_type": "error",
     "traceback": [
      "\u001b[0;31m---------------------------------------------------------------------------\u001b[0m",
      "\u001b[0;31mIndexError\u001b[0m                                Traceback (most recent call last)",
      "\u001b[1;32m/home/wg247/HTorch_internal/examples/embedding/MCembedding.ipynb Cell 21\u001b[0m in \u001b[0;36m<cell line: 3>\u001b[0;34m()\u001b[0m\n\u001b[1;32m      <a href='vscode-notebook-cell://ssh-remote%2Bg2-login-01.coecis.cornell.edu/home/wg247/HTorch_internal/examples/embedding/MCembedding.ipynb#X41sdnNjb2RlLXJlbW90ZQ%3D%3D?line=0'>1</a>\u001b[0m a \u001b[39m=\u001b[39m MCHTensor([[\u001b[39m0.1\u001b[39m, \u001b[39m0.2\u001b[39m], [\u001b[39m0.3\u001b[39m, \u001b[39m0.4\u001b[39m]], manifold\u001b[39m=\u001b[39m\u001b[39m'\u001b[39m\u001b[39mHalfSpace\u001b[39m\u001b[39m'\u001b[39m, nc\u001b[39m=\u001b[39m\u001b[39m2\u001b[39m)\n\u001b[1;32m      <a href='vscode-notebook-cell://ssh-remote%2Bg2-login-01.coecis.cornell.edu/home/wg247/HTorch_internal/examples/embedding/MCembedding.ipynb#X41sdnNjb2RlLXJlbW90ZQ%3D%3D?line=1'>2</a>\u001b[0m b \u001b[39m=\u001b[39m MCHTensor([[\u001b[39m0.5\u001b[39m, \u001b[39m0.6\u001b[39m], [\u001b[39m0.7\u001b[39m, \u001b[39m0.8\u001b[39m]], manifold\u001b[39m=\u001b[39m\u001b[39m'\u001b[39m\u001b[39mHalfSpace\u001b[39m\u001b[39m'\u001b[39m, nc\u001b[39m=\u001b[39m\u001b[39m2\u001b[39m)\n\u001b[0;32m----> <a href='vscode-notebook-cell://ssh-remote%2Bg2-login-01.coecis.cornell.edu/home/wg247/HTorch_internal/examples/embedding/MCembedding.ipynb#X41sdnNjb2RlLXJlbW90ZQ%3D%3D?line=2'>3</a>\u001b[0m a\u001b[39m.\u001b[39;49mHdist(b)\n",
      "File \u001b[0;32m~/.conda/envs/wg247-3/lib/python3.9/site-packages/HTorch/MCHTensor.py:78\u001b[0m, in \u001b[0;36mMCHTensor.Hdist\u001b[0;34m(self, other)\u001b[0m\n\u001b[1;32m     76\u001b[0m \u001b[39massert\u001b[39;00m \u001b[39mself\u001b[39m\u001b[39m.\u001b[39mcurvature \u001b[39m==\u001b[39m other\u001b[39m.\u001b[39mcurvature, \u001b[39m\"\u001b[39m\u001b[39mInputs should in models with same curvature!\u001b[39m\u001b[39m\"\u001b[39m\n\u001b[1;32m     77\u001b[0m \u001b[39mif\u001b[39;00m \u001b[39mself\u001b[39m\u001b[39m.\u001b[39mmanifold\u001b[39m.\u001b[39mname \u001b[39m==\u001b[39m other\u001b[39m.\u001b[39mmanifold\u001b[39m.\u001b[39mname:\n\u001b[0;32m---> 78\u001b[0m     dist \u001b[39m=\u001b[39m \u001b[39mself\u001b[39;49m\u001b[39m.\u001b[39;49mmanifold\u001b[39m.\u001b[39;49mdistance(\u001b[39mself\u001b[39;49m, other, \u001b[39mabs\u001b[39;49m(\u001b[39mself\u001b[39;49m\u001b[39m.\u001b[39;49mcurvature))\n\u001b[1;32m     79\u001b[0m \u001b[39melse\u001b[39;00m:\n\u001b[1;32m     80\u001b[0m     \u001b[39m#### transform to a self's manifold, combine with lazy evaulation?\u001b[39;00m\n\u001b[1;32m     81\u001b[0m     other_ \u001b[39m=\u001b[39m other\u001b[39m.\u001b[39mto_other_manifold(\u001b[39mself\u001b[39m\u001b[39m.\u001b[39mmanifold\u001b[39m.\u001b[39mname)\n",
      "File \u001b[0;32m~/.conda/envs/wg247-3/lib/python3.9/site-packages/HTorch/manifolds/halfspace.py:41\u001b[0m, in \u001b[0;36mHalfSpace.distance\u001b[0;34m(self, x, y, c)\u001b[0m\n\u001b[1;32m     40\u001b[0m \u001b[39mdef\u001b[39;00m \u001b[39mdistance\u001b[39m(\u001b[39mself\u001b[39m, x:Tensor, y:Tensor, c:Union[\u001b[39mfloat\u001b[39m,Tensor]) \u001b[39m-\u001b[39m\u001b[39m>\u001b[39m Tensor:\n\u001b[0;32m---> 41\u001b[0m     sqnorm \u001b[39m=\u001b[39m sq_norm(x\u001b[39m-\u001b[39;49my)\n\u001b[1;32m     42\u001b[0m     dist_c \u001b[39m=\u001b[39m arcosh(\u001b[39m1\u001b[39m \u001b[39m+\u001b[39m sqnorm\u001b[39m/\u001b[39m(\u001b[39m2\u001b[39m\u001b[39m*\u001b[39mx[\u001b[39m.\u001b[39m\u001b[39m.\u001b[39m\u001b[39m.\u001b[39m, \u001b[39m-\u001b[39m\u001b[39m1\u001b[39m]\u001b[39m*\u001b[39my[\u001b[39m.\u001b[39m\u001b[39m.\u001b[39m\u001b[39m.\u001b[39m, \u001b[39m-\u001b[39m\u001b[39m1\u001b[39m])\u001b[39m.\u001b[39munsqueeze(\u001b[39m-\u001b[39m\u001b[39m1\u001b[39m))\n\u001b[1;32m     43\u001b[0m     dist \u001b[39m=\u001b[39m dist_c \u001b[39m/\u001b[39m c\u001b[39m*\u001b[39m\u001b[39m*\u001b[39m\u001b[39m0.5\u001b[39m\n",
      "File \u001b[0;32m~/.conda/envs/wg247-3/lib/python3.9/site-packages/HTorch/utils/math_utils.py:30\u001b[0m, in \u001b[0;36msq_norm\u001b[0;34m(x, keepdim)\u001b[0m\n\u001b[1;32m     29\u001b[0m \u001b[39mdef\u001b[39;00m \u001b[39msq_norm\u001b[39m(x, keepdim\u001b[39m=\u001b[39m\u001b[39mTrue\u001b[39;00m):\n\u001b[0;32m---> 30\u001b[0m     \u001b[39mreturn\u001b[39;00m torch\u001b[39m.\u001b[39;49mnorm(x, p\u001b[39m=\u001b[39;49m\u001b[39m2\u001b[39;49m, dim\u001b[39m=\u001b[39;49m\u001b[39m-\u001b[39;49m\u001b[39m1\u001b[39;49m, keepdim\u001b[39m=\u001b[39;49mkeepdim) \u001b[39m*\u001b[39m\u001b[39m*\u001b[39m \u001b[39m2\u001b[39m\n",
      "File \u001b[0;32m~/.conda/envs/wg247-3/lib/python3.9/site-packages/torch/functional.py:1482\u001b[0m, in \u001b[0;36mnorm\u001b[0;34m(input, p, dim, keepdim, out, dtype)\u001b[0m\n\u001b[1;32m   1388\u001b[0m \u001b[39m\u001b[39m\u001b[39mr\u001b[39m\u001b[39m\"\"\"Returns the matrix norm or vector norm of a given tensor.\u001b[39;00m\n\u001b[1;32m   1389\u001b[0m \n\u001b[1;32m   1390\u001b[0m \u001b[39m.. warning::\u001b[39;00m\n\u001b[0;32m   (...)\u001b[0m\n\u001b[1;32m   1478\u001b[0m \u001b[39m    (tensor(3.7417), tensor(11.2250))\u001b[39;00m\n\u001b[1;32m   1479\u001b[0m \u001b[39m\"\"\"\u001b[39;00m\n\u001b[1;32m   1481\u001b[0m \u001b[39mif\u001b[39;00m has_torch_function_unary(\u001b[39minput\u001b[39m):\n\u001b[0;32m-> 1482\u001b[0m     \u001b[39mreturn\u001b[39;00m handle_torch_function(\n\u001b[1;32m   1483\u001b[0m         norm, (\u001b[39minput\u001b[39;49m,), \u001b[39minput\u001b[39;49m, p\u001b[39m=\u001b[39;49mp, dim\u001b[39m=\u001b[39;49mdim, keepdim\u001b[39m=\u001b[39;49mkeepdim, out\u001b[39m=\u001b[39;49mout, dtype\u001b[39m=\u001b[39;49mdtype)\n\u001b[1;32m   1485\u001b[0m \u001b[39m# NB. All the repeated code and weird python is to please TorchScript.\u001b[39;00m\n\u001b[1;32m   1486\u001b[0m \u001b[39m#     For a more compact implementation see the relevant function in `_refs/__init__.py`\u001b[39;00m\n\u001b[1;32m   1487\u001b[0m \n\u001b[1;32m   1488\u001b[0m \u001b[39m# We don't do this for MPS or sparse tensors\u001b[39;00m\n\u001b[1;32m   1489\u001b[0m \u001b[39mif\u001b[39;00m \u001b[39minput\u001b[39m\u001b[39m.\u001b[39mlayout \u001b[39m==\u001b[39m torch\u001b[39m.\u001b[39mstrided \u001b[39mand\u001b[39;00m \u001b[39minput\u001b[39m\u001b[39m.\u001b[39mdevice\u001b[39m.\u001b[39mtype \u001b[39min\u001b[39;00m (\u001b[39m\"\u001b[39m\u001b[39mcpu\u001b[39m\u001b[39m\"\u001b[39m, \u001b[39m\"\u001b[39m\u001b[39mcuda\u001b[39m\u001b[39m\"\u001b[39m, \u001b[39m\"\u001b[39m\u001b[39mmeta\u001b[39m\u001b[39m\"\u001b[39m):\n",
      "File \u001b[0;32m~/.conda/envs/wg247-3/lib/python3.9/site-packages/torch/overrides.py:1551\u001b[0m, in \u001b[0;36mhandle_torch_function\u001b[0;34m(public_api, relevant_args, *args, **kwargs)\u001b[0m\n\u001b[1;32m   1545\u001b[0m     warnings\u001b[39m.\u001b[39mwarn(\u001b[39m\"\u001b[39m\u001b[39mDefining your `__torch_function__ as a plain method is deprecated and \u001b[39m\u001b[39m\"\u001b[39m\n\u001b[1;32m   1546\u001b[0m                   \u001b[39m\"\u001b[39m\u001b[39mwill be an error in future, please define it as a classmethod.\u001b[39m\u001b[39m\"\u001b[39m,\n\u001b[1;32m   1547\u001b[0m                   \u001b[39mDeprecationWarning\u001b[39;00m)\n\u001b[1;32m   1549\u001b[0m \u001b[39m# Use `public_api` instead of `implementation` so __torch_function__\u001b[39;00m\n\u001b[1;32m   1550\u001b[0m \u001b[39m# implementations can do equality/identity comparisons.\u001b[39;00m\n\u001b[0;32m-> 1551\u001b[0m result \u001b[39m=\u001b[39m torch_func_method(public_api, types, args, kwargs)\n\u001b[1;32m   1553\u001b[0m \u001b[39mif\u001b[39;00m result \u001b[39mis\u001b[39;00m \u001b[39mnot\u001b[39;00m \u001b[39mNotImplemented\u001b[39m:\n\u001b[1;32m   1554\u001b[0m     \u001b[39mreturn\u001b[39;00m result\n",
      "File \u001b[0;32m~/.conda/envs/wg247-3/lib/python3.9/site-packages/HTorch/MCHTensor.py:151\u001b[0m, in \u001b[0;36mMCHTensor.__torch_function__\u001b[0;34m(cls, func, types, args, kwargs)\u001b[0m\n\u001b[1;32m    149\u001b[0m \u001b[39mif\u001b[39;00m kwargs \u001b[39mis\u001b[39;00m \u001b[39mNone\u001b[39;00m:\n\u001b[1;32m    150\u001b[0m     kwargs \u001b[39m=\u001b[39m {}\n\u001b[0;32m--> 151\u001b[0m tmp \u001b[39m=\u001b[39m \u001b[39msuper\u001b[39;49m()\u001b[39m.\u001b[39;49m__torch_function__(func, types, args, kwargs)\n\u001b[1;32m    152\u001b[0m \u001b[39mif\u001b[39;00m \u001b[39mtype\u001b[39m(tmp) \u001b[39min\u001b[39;00m [MCTensor, MCHTensor] \u001b[39mand\u001b[39;00m \u001b[39mnot\u001b[39;00m \u001b[39mhasattr\u001b[39m(tmp, \u001b[39m'\u001b[39m\u001b[39mmanifold\u001b[39m\u001b[39m'\u001b[39m):\n\u001b[1;32m    153\u001b[0m     \u001b[39m# ret = cls(tmp)\u001b[39;00m\n\u001b[1;32m    154\u001b[0m     ret \u001b[39m=\u001b[39m MCHTensor(tmp)\n",
      "File \u001b[0;32m~/.conda/envs/wg247-3/lib/python3.9/site-packages/HTorch/MCTensor/MCTensor.py:372\u001b[0m, in \u001b[0;36mMCTensor.__torch_function__\u001b[0;34m(cls, func, types, args, kwargs)\u001b[0m\n\u001b[1;32m    370\u001b[0m     kwargs \u001b[39m=\u001b[39m {}\n\u001b[1;32m    371\u001b[0m \u001b[39mif\u001b[39;00m func \u001b[39min\u001b[39;00m HANDLED_FUNCTIONS:  \u001b[39m# torch.Tensor with MCTensor contents\u001b[39;00m\n\u001b[0;32m--> 372\u001b[0m     ret \u001b[39m=\u001b[39m HANDLED_FUNCTIONS[func](\u001b[39m*\u001b[39;49margs, \u001b[39m*\u001b[39;49m\u001b[39m*\u001b[39;49mkwargs)\n\u001b[1;32m    373\u001b[0m     \u001b[39mif\u001b[39;00m \u001b[39misinstance\u001b[39m(ret, Tensor) \u001b[39mand\u001b[39;00m \u001b[39mnot\u001b[39;00m \u001b[39misinstance\u001b[39m(ret, MCTensor):\n\u001b[1;32m    374\u001b[0m         \u001b[39mreturn\u001b[39;00m \u001b[39mcls\u001b[39m\u001b[39m.\u001b[39mwrap_tensor_to_mctensor(ret)\n",
      "File \u001b[0;32m~/.conda/envs/wg247-3/lib/python3.9/site-packages/HTorch/MCTensor/MCTensor.py:430\u001b[0m, in \u001b[0;36mnorm\u001b[0;34m(input, dim, keepdim, p, **kw)\u001b[0m\n\u001b[1;32m    428\u001b[0m \u001b[39m@implements\u001b[39m(torch\u001b[39m.\u001b[39mnorm)\n\u001b[1;32m    429\u001b[0m \u001b[39mdef\u001b[39;00m \u001b[39mnorm\u001b[39m(\u001b[39minput\u001b[39m: MCTensor, dim\u001b[39m=\u001b[39m\u001b[39mNone\u001b[39;00m, keepdim\u001b[39m=\u001b[39m\u001b[39mFalse\u001b[39;00m, p\u001b[39m=\u001b[39m\u001b[39m2\u001b[39m, \u001b[39m*\u001b[39m\u001b[39m*\u001b[39mkw) \u001b[39m-\u001b[39m\u001b[39m>\u001b[39m MCTensor:\n\u001b[0;32m--> 430\u001b[0m     \u001b[39mreturn\u001b[39;00m _norm(\u001b[39minput\u001b[39;49m\u001b[39m.\u001b[39;49mtensor, dim\u001b[39m=\u001b[39;49mdim, keepdim\u001b[39m=\u001b[39;49mkeepdim, p\u001b[39m=\u001b[39;49mp)\n",
      "File \u001b[0;32m~/.conda/envs/wg247-3/lib/python3.9/site-packages/HTorch/MCTensor/MCOpBasics.py:790\u001b[0m, in \u001b[0;36m_norm\u001b[0;34m(x, dim, keepdim, p)\u001b[0m\n\u001b[1;32m    788\u001b[0m         \u001b[39mreturn\u001b[39;00m res\n\u001b[1;32m    789\u001b[0m \u001b[39melif\u001b[39;00m p \u001b[39m==\u001b[39m \u001b[39m2\u001b[39m \u001b[39mor\u001b[39;00m p \u001b[39m==\u001b[39m \u001b[39m'\u001b[39m\u001b[39mfro\u001b[39m\u001b[39m'\u001b[39m: \u001b[39m# special L2 norm\u001b[39;00m\n\u001b[0;32m--> 790\u001b[0m     \u001b[39mreturn\u001b[39;00m _sqrt(_sum(_square(x), dim\u001b[39m=\u001b[39;49mdim, keepdim\u001b[39m=\u001b[39;49mkeepdim))\n\u001b[1;32m    791\u001b[0m \u001b[39melif\u001b[39;00m (\u001b[39mtype\u001b[39m(p) \u001b[39m==\u001b[39m \u001b[39mfloat\u001b[39m) \u001b[39mor\u001b[39;00m (\u001b[39mtype\u001b[39m(p) \u001b[39m==\u001b[39m \u001b[39mint\u001b[39m) \u001b[39mor\u001b[39;00m \\\n\u001b[1;32m    792\u001b[0m     (\n\u001b[1;32m    793\u001b[0m         \u001b[39misinstance\u001b[39m(p, torch\u001b[39m.\u001b[39mTensor) \u001b[39mand\u001b[39;00m p\u001b[39m.\u001b[39mdtype \u001b[39min\u001b[39;00m [\n\u001b[0;32m   (...)\u001b[0m\n\u001b[1;32m    796\u001b[0m         torch\u001b[39m.\u001b[39muint8, \n\u001b[1;32m    797\u001b[0m     ]): \u001b[39m# general case\u001b[39;00m\n\u001b[1;32m    798\u001b[0m     abs_x \u001b[39m=\u001b[39m _abs(x)\n",
      "File \u001b[0;32m~/.conda/envs/wg247-3/lib/python3.9/site-packages/HTorch/MCTensor/MCOpBasics.py:511\u001b[0m, in \u001b[0;36m_sqrt\u001b[0;34m(input_tensor)\u001b[0m\n\u001b[1;32m    509\u001b[0m \u001b[39mprint\u001b[39m(x\u001b[39m.\u001b[39mshape) \u001b[39m# 32 51 1 2\u001b[39;00m\n\u001b[1;32m    510\u001b[0m \u001b[39mprint\u001b[39m((input_tensor[\u001b[39m.\u001b[39m\u001b[39m.\u001b[39m\u001b[39m.\u001b[39m, \u001b[39m0\u001b[39m] \u001b[39m==\u001b[39m \u001b[39m0\u001b[39m)\u001b[39m.\u001b[39mshape)\n\u001b[0;32m--> 511\u001b[0m x[input_tensor[\u001b[39m.\u001b[39;49m\u001b[39m.\u001b[39;49m\u001b[39m.\u001b[39;49m, \u001b[39m0\u001b[39;49m] \u001b[39m==\u001b[39;49m \u001b[39m0\u001b[39;49m, \u001b[39m0\u001b[39;49m] \u001b[39m=\u001b[39m \u001b[39m0\u001b[39m\n\u001b[1;32m    512\u001b[0m \u001b[39mfor\u001b[39;00m _ \u001b[39min\u001b[39;00m \u001b[39mrange\u001b[39m(\u001b[39m2\u001b[39m):\n\u001b[1;32m    513\u001b[0m     x_sq \u001b[39m=\u001b[39m _MultMCN(x, x)\n",
      "\u001b[0;31mIndexError\u001b[0m: The shape of the mask [2, 1] at index 1 does not match the shape of the indexed tensor [2, 2] at index 1"
     ]
    }
   ],
   "source": [
    "a = MCHTensor([[0.1, 0.2], [0.3, 0.4]], manifold='HalfSpace', nc=2)\n",
    "b = MCHTensor([[0.5, 0.6], [0.7, 0.8]], manifold='HalfSpace', nc=2)\n",
    "a.Hdist(b)\n",
    "# 2 2 dim=-1"
   ]
  },
  {
   "cell_type": "code",
   "execution_count": null,
   "metadata": {},
   "outputs": [],
   "source": [
    "def sq_norm(x, keepdim=True):\n",
    "    return torch.norm(x, p=2, dim=-1, keepdim=keepdim) ** 2\n",
    "\n",
    "class Arcosh(torch.autograd.Function):\n",
    "    @staticmethod\n",
    "    def forward(ctx, x):\n",
    "        x = x.clamp(min=1.0 + 1e-15)\n",
    "        ctx.save_for_backward(x)\n",
    "        z = x.double()\n",
    "        return (z + torch.sqrt_(z.pow(2) - 1)).clamp_min_(1e-15).log_().to(x.dtype)\n",
    "\n",
    "    @staticmethod\n",
    "    def backward(ctx, grad_output):\n",
    "        input, = ctx.saved_tensors\n",
    "        res = grad_output / (input ** 2 - 1) ** 0.5\n",
    "        res[res.isnan()] = 0\n",
    "        return res\n",
    "\n",
    "def arcosh(x):\n",
    "    return Arcosh.apply(x)\n",
    "\n",
    "\n",
    "def distance(x, y, c):\n",
    "    sqnorm = sq_norm(x-y)\n",
    "    dist_c = arcosh(1 + sqnorm/(2*x[..., -1]*y[..., -1]).unsqueeze(-1))\n",
    "    dist = dist_c / c**0.5\n",
    "    return dist"
   ]
  },
  {
   "cell_type": "code",
   "execution_count": null,
   "metadata": {},
   "outputs": [
    {
     "name": "stdout",
     "output_type": "stream",
     "text": [
      "torch.Size([1, 2, 2])\n",
      "torch.Size([1, 2])\n"
     ]
    },
    {
     "data": {
      "text/plain": [
       "MCHTensor([[0.3200, 0.3200]]), nc=2, manifold=HalfSpace, curvature=-1.0"
      ]
     },
     "execution_count": 26,
     "metadata": {},
     "output_type": "execute_result"
    }
   ],
   "source": [
    "sq_norm(a - b)"
   ]
  },
  {
   "cell_type": "code",
   "execution_count": null,
   "metadata": {},
   "outputs": [
    {
     "name": "stdout",
     "output_type": "stream",
     "text": [
      "torch.Size([2, 1, 2])\n",
      "torch.Size([2, 1])\n"
     ]
    },
    {
     "ename": "IndexError",
     "evalue": "The shape of the mask [2, 1] at index 1 does not match the shape of the indexed tensor [2, 2] at index 1",
     "output_type": "error",
     "traceback": [
      "\u001b[0;31m---------------------------------------------------------------------------\u001b[0m",
      "\u001b[0;31mIndexError\u001b[0m                                Traceback (most recent call last)",
      "\u001b[1;32m/home/wg247/HTorch_internal/examples/embedding/MCembedding.ipynb Cell 23\u001b[0m in \u001b[0;36m<cell line: 1>\u001b[0;34m()\u001b[0m\n\u001b[0;32m----> <a href='vscode-notebook-cell://ssh-remote%2Bg2-login-01.coecis.cornell.edu/home/wg247/HTorch_internal/examples/embedding/MCembedding.ipynb#X30sdnNjb2RlLXJlbW90ZQ%3D%3D?line=0'>1</a>\u001b[0m distance(a, b, \u001b[39m1\u001b[39;49m)\n",
      "\u001b[1;32m/home/wg247/HTorch_internal/examples/embedding/MCembedding.ipynb Cell 23\u001b[0m in \u001b[0;36mdistance\u001b[0;34m(x, y, c)\u001b[0m\n\u001b[1;32m     <a href='vscode-notebook-cell://ssh-remote%2Bg2-login-01.coecis.cornell.edu/home/wg247/HTorch_internal/examples/embedding/MCembedding.ipynb#X30sdnNjb2RlLXJlbW90ZQ%3D%3D?line=22'>23</a>\u001b[0m \u001b[39mdef\u001b[39;00m \u001b[39mdistance\u001b[39m(x, y, c):\n\u001b[0;32m---> <a href='vscode-notebook-cell://ssh-remote%2Bg2-login-01.coecis.cornell.edu/home/wg247/HTorch_internal/examples/embedding/MCembedding.ipynb#X30sdnNjb2RlLXJlbW90ZQ%3D%3D?line=23'>24</a>\u001b[0m     sqnorm \u001b[39m=\u001b[39m sq_norm(x\u001b[39m-\u001b[39;49my)\n\u001b[1;32m     <a href='vscode-notebook-cell://ssh-remote%2Bg2-login-01.coecis.cornell.edu/home/wg247/HTorch_internal/examples/embedding/MCembedding.ipynb#X30sdnNjb2RlLXJlbW90ZQ%3D%3D?line=24'>25</a>\u001b[0m     dist_c \u001b[39m=\u001b[39m arcosh(\u001b[39m1\u001b[39m \u001b[39m+\u001b[39m sqnorm\u001b[39m/\u001b[39m(\u001b[39m2\u001b[39m\u001b[39m*\u001b[39mx[\u001b[39m.\u001b[39m\u001b[39m.\u001b[39m\u001b[39m.\u001b[39m, \u001b[39m-\u001b[39m\u001b[39m1\u001b[39m]\u001b[39m*\u001b[39my[\u001b[39m.\u001b[39m\u001b[39m.\u001b[39m\u001b[39m.\u001b[39m, \u001b[39m-\u001b[39m\u001b[39m1\u001b[39m])\u001b[39m.\u001b[39munsqueeze(\u001b[39m-\u001b[39m\u001b[39m1\u001b[39m))\n\u001b[1;32m     <a href='vscode-notebook-cell://ssh-remote%2Bg2-login-01.coecis.cornell.edu/home/wg247/HTorch_internal/examples/embedding/MCembedding.ipynb#X30sdnNjb2RlLXJlbW90ZQ%3D%3D?line=25'>26</a>\u001b[0m     dist \u001b[39m=\u001b[39m dist_c \u001b[39m/\u001b[39m c\u001b[39m*\u001b[39m\u001b[39m*\u001b[39m\u001b[39m0.5\u001b[39m\n",
      "\u001b[1;32m/home/wg247/HTorch_internal/examples/embedding/MCembedding.ipynb Cell 23\u001b[0m in \u001b[0;36msq_norm\u001b[0;34m(x, keepdim)\u001b[0m\n\u001b[1;32m      <a href='vscode-notebook-cell://ssh-remote%2Bg2-login-01.coecis.cornell.edu/home/wg247/HTorch_internal/examples/embedding/MCembedding.ipynb#X30sdnNjb2RlLXJlbW90ZQ%3D%3D?line=0'>1</a>\u001b[0m \u001b[39mdef\u001b[39;00m \u001b[39msq_norm\u001b[39m(x, keepdim\u001b[39m=\u001b[39m\u001b[39mTrue\u001b[39;00m):\n\u001b[0;32m----> <a href='vscode-notebook-cell://ssh-remote%2Bg2-login-01.coecis.cornell.edu/home/wg247/HTorch_internal/examples/embedding/MCembedding.ipynb#X30sdnNjb2RlLXJlbW90ZQ%3D%3D?line=1'>2</a>\u001b[0m     \u001b[39mreturn\u001b[39;00m torch\u001b[39m.\u001b[39;49mnorm(x, p\u001b[39m=\u001b[39;49m\u001b[39m2\u001b[39;49m, dim\u001b[39m=\u001b[39;49m\u001b[39m-\u001b[39;49m\u001b[39m1\u001b[39;49m, keepdim\u001b[39m=\u001b[39;49mkeepdim) \u001b[39m*\u001b[39m\u001b[39m*\u001b[39m \u001b[39m2\u001b[39m\n",
      "File \u001b[0;32m~/.conda/envs/wg247-3/lib/python3.9/site-packages/torch/functional.py:1482\u001b[0m, in \u001b[0;36mnorm\u001b[0;34m(input, p, dim, keepdim, out, dtype)\u001b[0m\n\u001b[1;32m   1388\u001b[0m \u001b[39m\u001b[39m\u001b[39mr\u001b[39m\u001b[39m\"\"\"Returns the matrix norm or vector norm of a given tensor.\u001b[39;00m\n\u001b[1;32m   1389\u001b[0m \n\u001b[1;32m   1390\u001b[0m \u001b[39m.. warning::\u001b[39;00m\n\u001b[0;32m   (...)\u001b[0m\n\u001b[1;32m   1478\u001b[0m \u001b[39m    (tensor(3.7417), tensor(11.2250))\u001b[39;00m\n\u001b[1;32m   1479\u001b[0m \u001b[39m\"\"\"\u001b[39;00m\n\u001b[1;32m   1481\u001b[0m \u001b[39mif\u001b[39;00m has_torch_function_unary(\u001b[39minput\u001b[39m):\n\u001b[0;32m-> 1482\u001b[0m     \u001b[39mreturn\u001b[39;00m handle_torch_function(\n\u001b[1;32m   1483\u001b[0m         norm, (\u001b[39minput\u001b[39;49m,), \u001b[39minput\u001b[39;49m, p\u001b[39m=\u001b[39;49mp, dim\u001b[39m=\u001b[39;49mdim, keepdim\u001b[39m=\u001b[39;49mkeepdim, out\u001b[39m=\u001b[39;49mout, dtype\u001b[39m=\u001b[39;49mdtype)\n\u001b[1;32m   1485\u001b[0m \u001b[39m# NB. All the repeated code and weird python is to please TorchScript.\u001b[39;00m\n\u001b[1;32m   1486\u001b[0m \u001b[39m#     For a more compact implementation see the relevant function in `_refs/__init__.py`\u001b[39;00m\n\u001b[1;32m   1487\u001b[0m \n\u001b[1;32m   1488\u001b[0m \u001b[39m# We don't do this for MPS or sparse tensors\u001b[39;00m\n\u001b[1;32m   1489\u001b[0m \u001b[39mif\u001b[39;00m \u001b[39minput\u001b[39m\u001b[39m.\u001b[39mlayout \u001b[39m==\u001b[39m torch\u001b[39m.\u001b[39mstrided \u001b[39mand\u001b[39;00m \u001b[39minput\u001b[39m\u001b[39m.\u001b[39mdevice\u001b[39m.\u001b[39mtype \u001b[39min\u001b[39;00m (\u001b[39m\"\u001b[39m\u001b[39mcpu\u001b[39m\u001b[39m\"\u001b[39m, \u001b[39m\"\u001b[39m\u001b[39mcuda\u001b[39m\u001b[39m\"\u001b[39m, \u001b[39m\"\u001b[39m\u001b[39mmeta\u001b[39m\u001b[39m\"\u001b[39m):\n",
      "File \u001b[0;32m~/.conda/envs/wg247-3/lib/python3.9/site-packages/torch/overrides.py:1551\u001b[0m, in \u001b[0;36mhandle_torch_function\u001b[0;34m(public_api, relevant_args, *args, **kwargs)\u001b[0m\n\u001b[1;32m   1545\u001b[0m     warnings\u001b[39m.\u001b[39mwarn(\u001b[39m\"\u001b[39m\u001b[39mDefining your `__torch_function__ as a plain method is deprecated and \u001b[39m\u001b[39m\"\u001b[39m\n\u001b[1;32m   1546\u001b[0m                   \u001b[39m\"\u001b[39m\u001b[39mwill be an error in future, please define it as a classmethod.\u001b[39m\u001b[39m\"\u001b[39m,\n\u001b[1;32m   1547\u001b[0m                   \u001b[39mDeprecationWarning\u001b[39;00m)\n\u001b[1;32m   1549\u001b[0m \u001b[39m# Use `public_api` instead of `implementation` so __torch_function__\u001b[39;00m\n\u001b[1;32m   1550\u001b[0m \u001b[39m# implementations can do equality/identity comparisons.\u001b[39;00m\n\u001b[0;32m-> 1551\u001b[0m result \u001b[39m=\u001b[39m torch_func_method(public_api, types, args, kwargs)\n\u001b[1;32m   1553\u001b[0m \u001b[39mif\u001b[39;00m result \u001b[39mis\u001b[39;00m \u001b[39mnot\u001b[39;00m \u001b[39mNotImplemented\u001b[39m:\n\u001b[1;32m   1554\u001b[0m     \u001b[39mreturn\u001b[39;00m result\n",
      "File \u001b[0;32m~/.conda/envs/wg247-3/lib/python3.9/site-packages/HTorch/MCHTensor.py:151\u001b[0m, in \u001b[0;36mMCHTensor.__torch_function__\u001b[0;34m(cls, func, types, args, kwargs)\u001b[0m\n\u001b[1;32m    149\u001b[0m \u001b[39mif\u001b[39;00m kwargs \u001b[39mis\u001b[39;00m \u001b[39mNone\u001b[39;00m:\n\u001b[1;32m    150\u001b[0m     kwargs \u001b[39m=\u001b[39m {}\n\u001b[0;32m--> 151\u001b[0m tmp \u001b[39m=\u001b[39m \u001b[39msuper\u001b[39;49m()\u001b[39m.\u001b[39;49m__torch_function__(func, types, args, kwargs)\n\u001b[1;32m    152\u001b[0m \u001b[39mif\u001b[39;00m \u001b[39mtype\u001b[39m(tmp) \u001b[39min\u001b[39;00m [MCTensor, MCHTensor] \u001b[39mand\u001b[39;00m \u001b[39mnot\u001b[39;00m \u001b[39mhasattr\u001b[39m(tmp, \u001b[39m'\u001b[39m\u001b[39mmanifold\u001b[39m\u001b[39m'\u001b[39m):\n\u001b[1;32m    153\u001b[0m     \u001b[39m# ret = cls(tmp)\u001b[39;00m\n\u001b[1;32m    154\u001b[0m     ret \u001b[39m=\u001b[39m MCHTensor(tmp)\n",
      "File \u001b[0;32m~/.conda/envs/wg247-3/lib/python3.9/site-packages/HTorch/MCTensor/MCTensor.py:372\u001b[0m, in \u001b[0;36mMCTensor.__torch_function__\u001b[0;34m(cls, func, types, args, kwargs)\u001b[0m\n\u001b[1;32m    370\u001b[0m     kwargs \u001b[39m=\u001b[39m {}\n\u001b[1;32m    371\u001b[0m \u001b[39mif\u001b[39;00m func \u001b[39min\u001b[39;00m HANDLED_FUNCTIONS:  \u001b[39m# torch.Tensor with MCTensor contents\u001b[39;00m\n\u001b[0;32m--> 372\u001b[0m     ret \u001b[39m=\u001b[39m HANDLED_FUNCTIONS[func](\u001b[39m*\u001b[39;49margs, \u001b[39m*\u001b[39;49m\u001b[39m*\u001b[39;49mkwargs)\n\u001b[1;32m    373\u001b[0m     \u001b[39mif\u001b[39;00m \u001b[39misinstance\u001b[39m(ret, Tensor) \u001b[39mand\u001b[39;00m \u001b[39mnot\u001b[39;00m \u001b[39misinstance\u001b[39m(ret, MCTensor):\n\u001b[1;32m    374\u001b[0m         \u001b[39mreturn\u001b[39;00m \u001b[39mcls\u001b[39m\u001b[39m.\u001b[39mwrap_tensor_to_mctensor(ret)\n",
      "File \u001b[0;32m~/.conda/envs/wg247-3/lib/python3.9/site-packages/HTorch/MCTensor/MCTensor.py:430\u001b[0m, in \u001b[0;36mnorm\u001b[0;34m(input, dim, keepdim, p, **kw)\u001b[0m\n\u001b[1;32m    428\u001b[0m \u001b[39m@implements\u001b[39m(torch\u001b[39m.\u001b[39mnorm)\n\u001b[1;32m    429\u001b[0m \u001b[39mdef\u001b[39;00m \u001b[39mnorm\u001b[39m(\u001b[39minput\u001b[39m: MCTensor, dim\u001b[39m=\u001b[39m\u001b[39mNone\u001b[39;00m, keepdim\u001b[39m=\u001b[39m\u001b[39mFalse\u001b[39;00m, p\u001b[39m=\u001b[39m\u001b[39m2\u001b[39m, \u001b[39m*\u001b[39m\u001b[39m*\u001b[39mkw) \u001b[39m-\u001b[39m\u001b[39m>\u001b[39m MCTensor:\n\u001b[0;32m--> 430\u001b[0m     \u001b[39mreturn\u001b[39;00m _norm(\u001b[39minput\u001b[39;49m\u001b[39m.\u001b[39;49mtensor, dim\u001b[39m=\u001b[39;49mdim, keepdim\u001b[39m=\u001b[39;49mkeepdim, p\u001b[39m=\u001b[39;49mp)\n",
      "File \u001b[0;32m~/.conda/envs/wg247-3/lib/python3.9/site-packages/HTorch/MCTensor/MCOpBasics.py:785\u001b[0m, in \u001b[0;36m_norm\u001b[0;34m(x, dim, keepdim, p)\u001b[0m\n\u001b[1;32m    783\u001b[0m         \u001b[39mreturn\u001b[39;00m res\n\u001b[1;32m    784\u001b[0m \u001b[39melif\u001b[39;00m p \u001b[39m==\u001b[39m \u001b[39m2\u001b[39m \u001b[39mor\u001b[39;00m p \u001b[39m==\u001b[39m \u001b[39m'\u001b[39m\u001b[39mfro\u001b[39m\u001b[39m'\u001b[39m: \u001b[39m# special L2 norm\u001b[39;00m\n\u001b[0;32m--> 785\u001b[0m     \u001b[39mreturn\u001b[39;00m _sqrt(_sum(_square(x), dim\u001b[39m=\u001b[39;49mdim, keepdim\u001b[39m=\u001b[39;49mkeepdim))\n\u001b[1;32m    786\u001b[0m \u001b[39melif\u001b[39;00m (\u001b[39mtype\u001b[39m(p) \u001b[39m==\u001b[39m \u001b[39mfloat\u001b[39m) \u001b[39mor\u001b[39;00m (\u001b[39mtype\u001b[39m(p) \u001b[39m==\u001b[39m \u001b[39mint\u001b[39m) \u001b[39mor\u001b[39;00m \\\n\u001b[1;32m    787\u001b[0m     (\n\u001b[1;32m    788\u001b[0m         \u001b[39misinstance\u001b[39m(p, torch\u001b[39m.\u001b[39mTensor) \u001b[39mand\u001b[39;00m p\u001b[39m.\u001b[39mdtype \u001b[39min\u001b[39;00m [\n\u001b[0;32m   (...)\u001b[0m\n\u001b[1;32m    791\u001b[0m         torch\u001b[39m.\u001b[39muint8, \n\u001b[1;32m    792\u001b[0m     ]): \u001b[39m# general case\u001b[39;00m\n\u001b[1;32m    793\u001b[0m     abs_x \u001b[39m=\u001b[39m _abs(x)\n",
      "File \u001b[0;32m~/.conda/envs/wg247-3/lib/python3.9/site-packages/HTorch/MCTensor/MCOpBasics.py:511\u001b[0m, in \u001b[0;36m_sqrt\u001b[0;34m(input_tensor)\u001b[0m\n\u001b[1;32m    509\u001b[0m \u001b[39mprint\u001b[39m(x\u001b[39m.\u001b[39mshape)\n\u001b[1;32m    510\u001b[0m \u001b[39mprint\u001b[39m((input_tensor[\u001b[39m.\u001b[39m\u001b[39m.\u001b[39m\u001b[39m.\u001b[39m, \u001b[39m0\u001b[39m] \u001b[39m==\u001b[39m \u001b[39m0\u001b[39m)\u001b[39m.\u001b[39mshape)\n\u001b[0;32m--> 511\u001b[0m x[input_tensor[\u001b[39m.\u001b[39;49m\u001b[39m.\u001b[39;49m\u001b[39m.\u001b[39;49m, \u001b[39m0\u001b[39;49m] \u001b[39m==\u001b[39;49m \u001b[39m0\u001b[39;49m, \u001b[39m0\u001b[39;49m] \u001b[39m=\u001b[39m \u001b[39m0\u001b[39m\n\u001b[1;32m    512\u001b[0m \u001b[39mfor\u001b[39;00m _ \u001b[39min\u001b[39;00m \u001b[39mrange\u001b[39m(\u001b[39m2\u001b[39m):\n\u001b[1;32m    513\u001b[0m     x_sq \u001b[39m=\u001b[39m _MultMCN(x, x)\n",
      "\u001b[0;31mIndexError\u001b[0m: The shape of the mask [2, 1] at index 1 does not match the shape of the indexed tensor [2, 2] at index 1"
     ]
    }
   ],
   "source": [
    "distance(a, b, 1)"
   ]
  },
  {
   "cell_type": "markdown",
   "metadata": {},
   "source": [
    "# Evaluate embedding"
   ]
  },
  {
   "cell_type": "code",
   "execution_count": null,
   "metadata": {},
   "outputs": [],
   "source": [
    "class RES():\n",
    "    \"\"\"for logging results\"\"\"\n",
    "    def __init__(self, loss, eval_res, weight):\n",
    "        self.loss = torch.tensor(loss, dtype=torch.float64, \n",
    "                                 device=cpu)\n",
    "        self.eval_res = torch.tensor(eval_res, dtype=torch.float64, \n",
    "                                     device=cpu)\n",
    "        self.weight = weight"
   ]
  },
  {
   "cell_type": "code",
   "execution_count": null,
   "metadata": {},
   "outputs": [
    {
     "ename": "NameError",
     "evalue": "name 'model' is not defined",
     "output_type": "error",
     "traceback": [
      "\u001b[0;31m---------------------------------------------------------------------------\u001b[0m",
      "\u001b[0;31mNameError\u001b[0m                                 Traceback (most recent call last)",
      "\u001b[1;32m/home/wg247/HTorch_internal/examples/embedding/MCembedding.ipynb Cell 19\u001b[0m in \u001b[0;36m<cell line: 1>\u001b[0;34m()\u001b[0m\n\u001b[0;32m----> <a href='vscode-notebook-cell://ssh-remote%2Bg2-login-01.coecis.cornell.edu/home/wg247/HTorch_internal/examples/embedding/MCembedding.ipynb#X24sdnNjb2RlLXJlbW90ZQ%3D%3D?line=0'>1</a>\u001b[0m model_weight \u001b[39m=\u001b[39m model\u001b[39m.\u001b[39mlt\u001b[39m.\u001b[39mweight\u001b[39m.\u001b[39mclone()\n\u001b[1;32m      <a href='vscode-notebook-cell://ssh-remote%2Bg2-login-01.coecis.cornell.edu/home/wg247/HTorch_internal/examples/embedding/MCembedding.ipynb#X24sdnNjb2RlLXJlbW90ZQ%3D%3D?line=1'>2</a>\u001b[0m \u001b[39m# eval meanrank, maprank in the original model\u001b[39;00m\n\u001b[1;32m      <a href='vscode-notebook-cell://ssh-remote%2Bg2-login-01.coecis.cornell.edu/home/wg247/HTorch_internal/examples/embedding/MCembedding.ipynb#X24sdnNjb2RlLXJlbW90ZQ%3D%3D?line=2'>3</a>\u001b[0m meanrank, maprank \u001b[39m=\u001b[39m eval_reconstruction(adj, model_weight, workers\u001b[39m=\u001b[39mopt_ndproc)\n",
      "\u001b[0;31mNameError\u001b[0m: name 'model' is not defined"
     ]
    }
   ],
   "source": [
    "model_weight = model.lt.weight.clone()\n",
    "# eval meanrank, maprank in the original model\n",
    "meanrank, maprank = eval_reconstruction(adj, model_weight, workers=opt_ndproc)\n",
    "if opt_manifold != \"PoincareBall\":\n",
    "    # change to PoincareBall to derive the sqnorms metric\n",
    "    model_weight = model_weight.to_other_manifold(\"PoincareBall\")\n",
    "sqnorms = torch.sqrt(torch.sum(torch.pow(model_weight, 2), dim=-1))\n",
    "sqnorm_min = sqnorms.min().item()\n",
    "sqnorm_avg = sqnorms.mean().item()\n",
    "sqnorm_max = sqnorms.max().item()\n",
    "eval_res = [meanrank, maprank, sqnorm_min, sqnorm_avg, sqnorm_max, train_time]\n",
    "RESULTS = RES(loss, eval_res, model_weight)\n",
    "# torch.save(RESULTS, \"./results_weights/\"+FILE_NAME+\"_seed1\"+ \".pt\")\n",
    "log.info(\n",
    "    'json_stats final test: \\n{'\n",
    "    f'\"sqnorm_min\": {round(sqnorm_min,6)}, '\n",
    "    f'\"sqnorm_avg\": {round(sqnorm_avg,6)}, '\n",
    "    f'\"sqnorm_max\": {round(sqnorm_max,6)}, \\n'\n",
    "    f'\"mean_rank\": {round(meanrank,6)}, '\n",
    "    f'\"map\": {round(maprank,6)}, '\n",
    "    '}'\n",
    ")"
   ]
  },
  {
   "cell_type": "code",
   "execution_count": null,
   "metadata": {},
   "outputs": [],
   "source": []
  }
 ],
 "metadata": {
  "kernelspec": {
   "display_name": "base",
   "language": "python",
   "name": "python3"
  },
  "language_info": {
   "codemirror_mode": {
    "name": "ipython",
    "version": 3
   },
   "file_extension": ".py",
   "mimetype": "text/x-python",
   "name": "python",
   "nbconvert_exporter": "python",
   "pygments_lexer": "ipython3",
   "version": "3.9.16"
  },
  "vscode": {
   "interpreter": {
    "hash": "927525c3d2f7acfcf8a33b51f4f26dbd622ffa50c82fd88b44938bb5770af83b"
   }
  }
 },
 "nbformat": 4,
 "nbformat_minor": 2
}
