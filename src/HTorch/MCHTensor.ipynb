{
 "cells": [
  {
   "cell_type": "code",
   "execution_count": 33,
   "metadata": {},
   "outputs": [],
   "source": [
    "from __future__ import annotations\n",
    "import os, sys\n",
    "sys.path.insert(0, \"..\")\n",
    "import torch, math\n",
    "from HTorch.manifolds import Euclidean, PoincareBall, Lorentz, HalfSpace, Manifold, Sphere\n",
    "from torch import Tensor\n",
    "from torch.nn import Parameter\n",
    "import functools\n",
    "from typing import Union\n",
    "from HTorch.MCTensor import MCTensor\n",
    "from HTorch.HTensor import HTensor\n",
    "\n",
    "manifold_maps = {\n",
    "    'Euclidean': Euclidean, \n",
    "    'PoincareBall': PoincareBall,\n",
    "    'Lorentz': Lorentz, \n",
    "    'HalfSpace': HalfSpace,\n",
    "    'Sphere':Sphere\n",
    "}"
   ]
  },
  {
   "cell_type": "code",
   "execution_count": 34,
   "metadata": {},
   "outputs": [],
   "source": [
    "torch.set_printoptions(precision=8)"
   ]
  },
  {
   "cell_type": "code",
   "execution_count": 35,
   "metadata": {},
   "outputs": [],
   "source": [
    "class MCHTensor(MCTensor):\n",
    "    @staticmethod\n",
    "    def __new__(cls, *args, manifold='PoincareBall', curvature=-1.0, **kwargs):\n",
    "        ret = super().__new__(cls, *args, **kwargs)\n",
    "        if isinstance(manifold, str):\n",
    "            ret.manifold: Manifold = manifold_maps[manifold]()\n",
    "        elif isinstance(manifold, Manifold):\n",
    "            ret.manifold: Manifold = manifold\n",
    "        else:\n",
    "            raise NotImplemented\n",
    "        ret.curvature = curvature\n",
    "        return ret\n",
    "\n",
    "    def __init__(self, *args, manifold='PoincareBall', curvature=-1.0, **kwargs):\n",
    "        super().__init__(*args, **kwargs)\n",
    "        if isinstance(manifold, str):\n",
    "            self.manifold: Manifold = manifold_maps[manifold]()\n",
    "        elif isinstance(manifold, Manifold):\n",
    "            self.manifold: Manifold = manifold\n",
    "        else:\n",
    "            raise NotImplemented\n",
    "        self.curvature = curvature\n",
    "\n",
    "    def __repr__(self):\n",
    "        return \"{}, manifold={}, curvature={}\".format(\n",
    "            super().__repr__(), self.manifold.name, self.curvature)\n",
    "\n",
    "    def to_other_manifold(self, name: str) -> MCHTensor:\n",
    "        \"\"\"Convert to the same point on the other manifold.\"\"\"\n",
    "        assert name != self.manifold.name\n",
    "        if name == 'Lorentz':\n",
    "            ret = self.manifold.to_lorentz(self, abs(self.curvature))\n",
    "        elif name == 'HalfSpace':\n",
    "            ret = self.manifold.to_halfspace(self, abs(self.curvature))\n",
    "        elif name == 'PoincareBall':\n",
    "            ret = self.manifold.to_poincare(self, abs(self.curvature))\n",
    "        else:\n",
    "            raise NotImplemented\n",
    "        ret.manifold = manifold_maps[name]()\n",
    "        return ret\n",
    "\n",
    "    def Hdist(self, other: MCHTensor) -> Tensor:\n",
    "        \"\"\"Computes hyperbolic distance to other.\"\"\"\n",
    "        assert self.curvature == other.curvature, \"Inputs should in models with same curvature!\"\n",
    "        if self.manifold.name == other.manifold.name:\n",
    "            dist = self.manifold.distance(self, other, abs(self.curvature))\n",
    "        else:\n",
    "            #### transform to a self's manifold, combine with lazy evaulation?\n",
    "            other_ = other.to_other_manifold(self.manifold.name)\n",
    "            dist = self.manifold.distance(self, other_, abs(self.curvature))\n",
    "        return dist.as_subclass(Tensor)\n",
    "\n",
    "    def proj(self) -> MCHTensor:\n",
    "        \"\"\"Projects point p on the manifold.\"\"\"\n",
    "        return self.manifold.proj(self, abs(self.curvature))\n",
    "\n",
    "    def proj_(self) -> MCHTensor:\n",
    "        \"\"\"Projects point p on the manifold.\"\"\"\n",
    "        return self.copy_(self.proj())\n",
    "\n",
    "    def proj_tan(self, u: Tensor) -> Tensor:\n",
    "        \"\"\"Projects u on the tangent space of p.\"\"\"\n",
    "        return self.manifold.proj_tan(self, u, abs(self.curvature)).as_subclass(Tensor)\n",
    "\n",
    "    def proj_tan0(self, u: Tensor) -> Tensor:\n",
    "        \"\"\"Projects u on the tangent space of the origin.\"\"\"\n",
    "        return self.manifold.proj_tan0(u, abs(self.curvature)).as_subclass(Tensor)\n",
    "\n",
    "    def expmap(self, x: MCHTensor, u: Tensor) -> MCHTensor:\n",
    "        \"\"\"Exponential map.\"\"\"\n",
    "        return self.manifold.expmap(x, u, abs(self.curvature))\n",
    "\n",
    "    def expmap0(self, u: Tensor) -> MCHTensor: ## wrap u to MCHTensor???\n",
    "        \"\"\"Exponential map, with x being the origin on the manifold.\"\"\"\n",
    "        res = self.manifold.expmap0(u, abs(self.curvature))\n",
    "        return MCHTensor(res, manifold=self.manifold, curvature=self.curvature, nc=self.nc)\n",
    "\n",
    "    def logmap(self, x: MCHTensor, y: MCHTensor) -> Tensor:\n",
    "        \"\"\"Logarithmic map, the inverse of exponential map.\"\"\"\n",
    "        return self.manifold.logmap(x, y, abs(self.curvature)).as_subclass(Tensor)\n",
    "\n",
    "    def logmap0(self, y: MCHTensor) -> Tensor:\n",
    "        \"\"\"Logarithmic map, where x is the origin.\"\"\"\n",
    "        return self.manifold.logmap0(y, abs(self.curvature)).as_subclass(Tensor)\n",
    "\n",
    "    def mobius_add(self, x: MCHTensor, y: MCHTensor, dim: int = -1) -> MCHTensor:\n",
    "        \"\"\"Performs hyperboic addition, adds points x and y.\"\"\"\n",
    "        return self.manifold.mobius_add(x, y, abs(self.curvature), dim=dim)\n",
    "\n",
    "    def mobius_matvec(self, m: Tensor, x: MCHTensor) -> MCHTensor:\n",
    "        \"\"\"Performs hyperboic martrix-vector multiplication to m (matrix).\"\"\"\n",
    "        return self.manifold.mobius_matvec(m, x, abs(self.curvature))\n",
    "\n",
    "    def check_(self) -> Tensor:\n",
    "        \"\"\"Check if point on the specified manifold, project to the manifold if not.\"\"\"\n",
    "        check_result = self.manifold.check(\n",
    "            self, abs(self.curvature)).as_subclass(Tensor)\n",
    "        if not check_result:\n",
    "            print('Warning: data not on the manifold, projecting ...')\n",
    "            self.proj_()\n",
    "        return check_result\n",
    "    \n",
    "    @staticmethod\n",
    "    def find_mani_cur(args):\n",
    "        for arg in args:\n",
    "            if isinstance(arg, list) or isinstance(arg, tuple):\n",
    "                # Recursively apply the function to each element of the list\n",
    "                manifold, curvature = MCHTensor.find_mani_cur(arg)\n",
    "                break\n",
    "            elif isinstance(arg, MCHTensor):\n",
    "                manifold, curvature = arg.manifold, arg.curvature\n",
    "                break\n",
    "        return manifold, curvature\n",
    "    \n",
    "    @classmethod\n",
    "    def __torch_function__(cls, func, types, args=(), kwargs=None):\n",
    "        if kwargs is None:\n",
    "            kwargs = {}\n",
    "        tmp = super().__torch_function__(func, types, args, kwargs)\n",
    "        if type(tmp) in [MCTensor, MCHTensor] and not hasattr(tmp, 'manifold'):\n",
    "            ret = cls(tmp)\n",
    "            ret._nc, ret.res = tmp.nc, tmp.res\n",
    "            ret.manifold, ret.curvature = cls.find_mani_cur(args)\n",
    "            return ret\n",
    "        return tmp"
   ]
  },
  {
   "cell_type": "code",
   "execution_count": 36,
   "metadata": {},
   "outputs": [
    {
     "name": "stdout",
     "output_type": "stream",
     "text": [
      "MCTensor([[[ 0],\n",
      "           [ 2],\n",
      "           [ 4],\n",
      "           [ 6],\n",
      "           [ 8]],\n",
      "\n",
      "          [[10],\n",
      "           [12],\n",
      "           [14],\n",
      "           [16],\n",
      "           [18]],\n",
      "\n",
      "          [[20],\n",
      "           [22],\n",
      "           [24],\n",
      "           [26],\n",
      "           [28]]]), nc=2\n",
      "tensor([[[ 0],\n",
      "         [ 2],\n",
      "         [ 4],\n",
      "         [ 6],\n",
      "         [ 8]],\n",
      "\n",
      "        [[10],\n",
      "         [12],\n",
      "         [14],\n",
      "         [16],\n",
      "         [18]],\n",
      "\n",
      "        [[20],\n",
      "         [22],\n",
      "         [24],\n",
      "         [26],\n",
      "         [28]]])\n"
     ]
    }
   ],
   "source": [
    "x = MCTensor(torch.arange(30).reshape(3, 5, 2), nc=2)\n",
    "print(x.index_select(-1, torch.tensor(0)))\n",
    "\n",
    "print(torch.arange(30).reshape(3, 5, 2).index_select(-1, torch.tensor(0)))"
   ]
  },
  {
   "cell_type": "code",
   "execution_count": 37,
   "metadata": {},
   "outputs": [
    {
     "name": "stdout",
     "output_type": "stream",
     "text": [
      "MCHTensor([0.20200001, 0.10200001, 0.00200000]), nc=3, manifold=Lorentz, curvature=-1.0 tensor([[-3.95812094e-09,  0.00000000e+00],\n",
      "        [-3.95812094e-09,  0.00000000e+00],\n",
      "        [ 0.00000000e+00,  0.00000000e+00]]) torch.Size([3])\n",
      "MCHTensor([0.20200001, 0.10200001, 0.00200000]), nc=3, manifold=HalfSpace, curvature=-1.0 tensor([[-3.95812094e-09,  0.00000000e+00],\n",
      "        [-3.95812094e-09,  0.00000000e+00],\n",
      "        [ 0.00000000e+00,  0.00000000e+00]]) torch.Size([3])\n"
     ]
    }
   ],
   "source": [
    "x = MCHTensor([0.2, 0.1, 0.0], nc=3, manifold=\"Lorentz\")\n",
    "x.res.data.add_(1e-3)\n",
    "x.normalize_()\n",
    "print(x, x.res, x.shape)\n",
    "\n",
    "x = MCHTensor([0.2, 0.1, 0.0], nc=3, manifold=\"HalfSpace\")\n",
    "x.res.data.add_(1e-3)\n",
    "x.normalize_()\n",
    "print(x, x.res, x.shape)"
   ]
  },
  {
   "cell_type": "code",
   "execution_count": 38,
   "metadata": {},
   "outputs": [
    {
     "name": "stdout",
     "output_type": "stream",
     "text": [
      "MCHTensor([0.20000000, 0.10000000, 1.02469516]), nc=3, manifold=Lorentz, curvature=-1.0\n",
      "Hyperbolic HTensor([0.20000000, 0.10000000, 1.02469504]), manifold=Lorentz, curvature=-1.0\n",
      "MCHTensor([0.20000000, 0.10000000, 0.10000000]), nc=3, manifold=HalfSpace, curvature=-1.0\n",
      "Hyperbolic HTensor([0.20000000, 0.10000000, 0.10000000]), manifold=HalfSpace, curvature=-1.0\n"
     ]
    }
   ],
   "source": [
    "mc_x = MCHTensor([0.2, 0.1, 0.0], nc=3, manifold=\"Lorentz\")\n",
    "print(mc_x.proj())\n",
    "\n",
    "x = HTensor([0.2, 0.1, 0.0], manifold=\"Lorentz\")\n",
    "print(x.proj())\n",
    "\n",
    "mc_x = MCHTensor([0.2, 0.1, 0.1], nc=3, manifold=\"HalfSpace\")\n",
    "print(mc_x.proj().data)\n",
    "\n",
    "x = HTensor([0.2, 0.1, 0.1], manifold=\"HalfSpace\")\n",
    "print(x.proj())"
   ]
  },
  {
   "cell_type": "code",
   "execution_count": 39,
   "metadata": {},
   "outputs": [
    {
     "name": "stdout",
     "output_type": "stream",
     "text": [
      "tensor([2.00000003e-01, 1.00000001e-01, 5.00000000e+05])\n",
      "tensor([2.00000003e-01, 1.00000001e-01, 5.00000031e+05])\n",
      "tensor([0.20000000, 0.10000000, 0.30000001])\n",
      "tensor([0.20000000, 0.10000000, 0.30000001])\n"
     ]
    }
   ],
   "source": [
    "mc_x = MCHTensor([0.2, 0.1, 0.0], nc=3, manifold=\"Lorentz\")\n",
    "print(mc_x.proj_tan(torch.tensor([0.2, 0.1, 0.3])))\n",
    "\n",
    "x = HTensor([0.2, 0.1, 0.0], manifold=\"Lorentz\")\n",
    "print(x.proj_tan(torch.tensor([0.2, 0.1, 0.3])))\n",
    "\n",
    "mc_x = MCHTensor([0.2, 0.1, 0.0], nc=3, manifold=\"HalfSpace\")\n",
    "print(mc_x.proj_tan(torch.tensor([0.2, 0.1, 0.3])))\n",
    "\n",
    "x = HTensor([0.2, 0.1, 0.0], manifold=\"HalfSpace\")\n",
    "print(x.proj_tan(torch.tensor([0.2, 0.1, 0.3])))\n"
   ]
  },
  {
   "cell_type": "code",
   "execution_count": 40,
   "metadata": {},
   "outputs": [
    {
     "name": "stdout",
     "output_type": "stream",
     "text": [
      "tensor([0.20000000, 0.10000000, 0.00000000])\n",
      "tensor([0.20000000, 0.10000000, 0.00000000])\n",
      "tensor([0.20000000, 0.10000000, 0.30000001])\n",
      "tensor([0.20000000, 0.10000000, 0.30000001])\n"
     ]
    }
   ],
   "source": [
    "mc_x = MCHTensor([0.2, 0.1, 0.0], nc=3, manifold=\"Lorentz\")\n",
    "print(mc_x.proj_tan0(torch.tensor([0.2, 0.1, 0.3])))\n",
    "\n",
    "x = HTensor([0.2, 0.1, 0.0], manifold=\"Lorentz\")\n",
    "print(x.proj_tan0(torch.tensor([0.2, 0.1, 0.3])))\n",
    "\n",
    "mc_x = MCHTensor([0.2, 0.1, 0.0], nc=3, manifold=\"HalfSpace\")\n",
    "print(mc_x.proj_tan0(torch.tensor([0.2, 0.1, 0.3])))\n",
    "\n",
    "x = HTensor([0.2, 0.1, 0.0], manifold=\"HalfSpace\")\n",
    "print(x.proj_tan0(torch.tensor([0.2, 0.1, 0.3])))\n"
   ]
  },
  {
   "cell_type": "code",
   "execution_count": 41,
   "metadata": {},
   "outputs": [
    {
     "name": "stdout",
     "output_type": "stream",
     "text": [
      "MCHTensor([2.33306193, 1.17583787, 2.79745817]), nc=3, manifold=Lorentz, curvature=-1.0\n",
      "Hyperbolic HTensor([2.33306193, 1.17583787, 2.79745817]), manifold=Lorentz, curvature=-1.0\n",
      "MCTensor([2.44632110e-01, 1.22538306e-01, 3.05902361e-08]), nc=3\n",
      "Hyperbolic HTensor([2.44632110e-01, 1.22538306e-01, 3.05902326e-08]), manifold=HalfSpace, curvature=-1.0\n"
     ]
    }
   ],
   "source": [
    "mc_x = MCHTensor([0.2, 0.1, 0.0], nc=3, manifold=\"Lorentz\")\n",
    "exp_mc_x = mc_x.expmap(mc_x, torch.tensor([1.3254, 0.6693, 0.0000]))\n",
    "print(exp_mc_x)\n",
    "\n",
    "x = HTensor([0.2, 0.1, 0.0], manifold=\"Lorentz\")\n",
    "print(x.expmap(x, torch.tensor([1.3254, 0.6693, 0.0000])))\n",
    "\n",
    "mc_x = MCHTensor([0.2, 0.1, 0.05], nc=3, manifold=\"HalfSpace\")\n",
    "exp_mc_x = mc_x.expmap(mc_x, torch.tensor([1.3254, 0.6693, 0.0000]))\n",
    "print(exp_mc_x)\n",
    "\n",
    "x = HTensor([0.2, 0.1, 0.05], manifold=\"HalfSpace\")\n",
    "print(x.expmap(x, torch.tensor([1.3254, 0.6693, 0.0000])))"
   ]
  },
  {
   "cell_type": "code",
   "execution_count": 42,
   "metadata": {},
   "outputs": [
    {
     "name": "stdout",
     "output_type": "stream",
     "text": [
      "MCHTensor([1.86899650, 0.94380516, 2.32032681]), nc=3, manifold=Lorentz, curvature=-1.0\n",
      "Hyperbolic HTensor([1.86899650, 0.94380516, 2.32032681]), manifold=Lorentz, curvature=-1.0\n",
      "MCHTensor([0.80548853, 0.40675530, 0.43097377]), nc=3, manifold=HalfSpace, curvature=-1.0\n",
      "Hyperbolic HTensor([0.80548853, 0.40675530, 0.43097377]), manifold=HalfSpace, curvature=-1.0\n"
     ]
    }
   ],
   "source": [
    "x = MCHTensor([0.2, 0.1, 0.0], nc=3, manifold=\"Lorentz\")\n",
    "exp_x = x.expmap0(torch.tensor([1.3254, 0.6693, 0.0000]))\n",
    "print(exp_x)\n",
    "\n",
    "x = HTensor([0.2, 0.1, 0.0], manifold=\"Lorentz\")\n",
    "print(x.expmap0(torch.tensor([1.3254, 0.6693, 0.0000])))\n",
    "\n",
    "x = MCHTensor([0.2, 0.1, 0.0], nc=3, manifold=\"HalfSpace\")\n",
    "exp_x = x.expmap0(torch.tensor([1.3254, 0.6693, 0.0000]))\n",
    "print(exp_x)\n",
    "\n",
    "x = HTensor([0.2, 0.1, 0.0], manifold=\"HalfSpace\")\n",
    "print(x.expmap0(torch.tensor([1.3254, 0.6693, 0.0000])))"
   ]
  },
  {
   "cell_type": "code",
   "execution_count": 43,
   "metadata": {},
   "outputs": [
    {
     "name": "stdout",
     "output_type": "stream",
     "text": [
      "MCTensor([0.22360681]), nc=3\n",
      "Hyperbolic HTensor([0.22360681]), manifold=Lorentz, curvature=-1.0\n",
      "MCHTensor([1.24721920]), nc=3, manifold=HalfSpace, curvature=-1.0\n",
      "Hyperbolic HTensor([1.24721920]), manifold=HalfSpace, curvature=-1.0\n"
     ]
    }
   ],
   "source": [
    "x = MCHTensor([0.2, 0.1, 0.0], nc=3, manifold=\"Lorentz\")\n",
    "norm_t = x.manifold.norm_t(x)\n",
    "print(norm_t)\n",
    "\n",
    "x = HTensor([0.2, 0.1, 0.0], manifold=\"Lorentz\")\n",
    "norm_t = x.manifold.norm_t(x)\n",
    "print(norm_t)\n",
    "\n",
    "x = MCHTensor([0.2, 0.1, 0.3], nc=3, manifold=\"HalfSpace\")\n",
    "norm_t = x.manifold.norm_t(x, x, abs(x.curvature))\n",
    "print(norm_t)\n",
    "\n",
    "x = HTensor([0.2, 0.1, 0.3], manifold=\"HalfSpace\")\n",
    "norm_t = x.manifold.norm_t(x, x, abs(x.curvature))\n",
    "print(norm_t)"
   ]
  },
  {
   "cell_type": "code",
   "execution_count": 44,
   "metadata": {},
   "outputs": [
    {
     "name": "stdout",
     "output_type": "stream",
     "text": [
      "MCTensor([0.00048828]), nc=3\n",
      "Hyperbolic HTensor([0.00048828]), manifold=Lorentz, curvature=-1.0\n",
      "MCHTensor([2.44348931]), nc=3, manifold=HalfSpace, curvature=-1.0\n",
      "Hyperbolic HTensor([2.44348931]), manifold=HalfSpace, curvature=-1.0\n"
     ]
    }
   ],
   "source": [
    "x = MCHTensor([1.2, 1.1, 1.5], nc=3, manifold=\"Lorentz\")\n",
    "sq_dist = x.manifold.distance(x,  x + 2, 1)\n",
    "print(sq_dist)\n",
    "\n",
    "x = HTensor([1.2, 1.1, 1.5], manifold=\"Lorentz\")\n",
    "sq_dist = x.manifold.distance(x, x + 2, 1)\n",
    "print(sq_dist)\n",
    "\n",
    "x = MCHTensor([0.2, 0.1, 0.5], nc=3, manifold=\"HalfSpace\")\n",
    "sq_dist = x.manifold.distance(x,  x + 2, 1)\n",
    "print(sq_dist)\n",
    "\n",
    "x = HTensor([0.2, 0.1, 0.5], manifold=\"HalfSpace\")\n",
    "sq_dist = x.manifold.distance(x, x + 2, 1)\n",
    "print(sq_dist)"
   ]
  },
  {
   "cell_type": "code",
   "execution_count": 65,
   "metadata": {},
   "outputs": [
    {
     "name": "stdout",
     "output_type": "stream",
     "text": [
      "tensor([3.29362011e+00, 1.66118062e+00, 8.24842100e+06])\n",
      "tensor([3.29362011e+00, 1.66118073e+00, 8.24842100e+06])\n",
      "tensor([[0.32539895, 0.66929781, 0.10000819]])\n",
      "tensor([0.32539999, 0.66930002, 0.09999998])\n"
     ]
    }
   ],
   "source": [
    "x = MCHTensor([0.2, 0.1, 0.0], nc=3, manifold=\"Lorentz\")\n",
    "exp_u = x.expmap(x, torch.tensor([1.3254, 0.6693, 0.0000]))\n",
    "log_x = x.logmap(x, exp_u)\n",
    "print(log_x)\n",
    "\n",
    "x = HTensor([0.2, 0.1, 0.0], manifold=\"Lorentz\")\n",
    "exp_u = x.expmap(x, torch.tensor([1.3254, 0.6693, 0.0000]))\n",
    "print(x.logmap(x, exp_u))\n",
    "\n",
    "x = MCHTensor([0.2, 0.1, 0.3], nc=3, manifold=\"HalfSpace\")\n",
    "exp_u = x.expmap(x, torch.tensor([0.3254, 0.6693, 0.1000]))\n",
    "log_x = x.logmap(x, exp_u)\n",
    "print(log_x)\n",
    "\n",
    "x = HTensor([0.2, 0.1, 0.3], manifold=\"HalfSpace\")\n",
    "exp_u = x.expmap(x, torch.tensor([0.3254, 0.6693, 0.1000]))\n",
    "print(x.logmap(x, exp_u))\n"
   ]
  },
  {
   "cell_type": "code",
   "execution_count": 69,
   "metadata": {},
   "outputs": [
    {
     "name": "stdout",
     "output_type": "stream",
     "text": [
      "tensor([1.50761509, 0.75982159, 0.00000000])\n",
      "tensor([1.50761521, 0.75982165, 0.00000000])\n",
      "tensor([[ 0.96742433,  0.84807873, -0.42057699]])\n",
      "tensor([ 0.96744061,  0.84809279, -0.42060983])\n"
     ]
    }
   ],
   "source": [
    "x = MCHTensor([0.2, 0.1, 0.0], nc=3, manifold=\"Lorentz\")\n",
    "exp_u = x.expmap(x, torch.tensor([1.3254, 0.6693, 0.0000]))\n",
    "log_x = x.logmap0(exp_u)\n",
    "print(log_x)\n",
    "\n",
    "x = HTensor([0.2, 0.1, 0.0], manifold=\"Lorentz\")\n",
    "exp_u = x.expmap(x, torch.tensor([1.3254, 0.6693, 0.0000]))\n",
    "print(x.logmap0(exp_u))\n",
    "\n",
    "x = MCHTensor([0.2, 0.1, 0.5], nc=3, manifold=\"HalfSpace\")\n",
    "exp_u = x.expmap(x, torch.tensor([0.3254, 0.3693, 0.1000]))\n",
    "log_x = x.logmap0(exp_u)\n",
    "print(log_x)\n",
    "\n",
    "x = HTensor([0.2, 0.1, 0.5], manifold=\"HalfSpace\")\n",
    "exp_u = x.expmap(x, torch.tensor([0.3254, 0.3693, 0.1000]))\n",
    "print(x.logmap0(exp_u))\n"
   ]
  },
  {
   "cell_type": "code",
   "execution_count": 47,
   "metadata": {},
   "outputs": [
    {
     "name": "stdout",
     "output_type": "stream",
     "text": [
      "MCHTensor([[0.20000002, 0.10000001, 1.02469516]]), nc=3, manifold=Lorentz, curvature=-1.0\n",
      "Hyperbolic HTensor([[0.20000000, 0.10000000, 1.02469504]]), manifold=Lorentz, curvature=-1.0\n"
     ]
    }
   ],
   "source": [
    "x = MCHTensor([0.2, 0.1, 0.0], nc=3, manifold=\"Lorentz\")\n",
    "print(x.mobius_add(x.unsqueeze(0), x.unsqueeze(0)))\n",
    "\n",
    "x = HTensor([0.2, 0.1, 0.0], manifold=\"Lorentz\")\n",
    "print(x.mobius_add(x.unsqueeze(0), x.unsqueeze(0)))\n"
   ]
  },
  {
   "cell_type": "code",
   "execution_count": 71,
   "metadata": {},
   "outputs": [
    {
     "name": "stdout",
     "output_type": "stream",
     "text": [
      "MCHTensor([[2.18366040e-04, 1.00000000e+00]]), nc=3, manifold=Lorentz, curvature=-1.0\n",
      "Hyperbolic HTensor([[2.18365996e-04, 1.00000000e+00]]), manifold=Lorentz, curvature=-1.0\n",
      "MCHTensor([[-0.33889443,  0.19450326]]), nc=3, manifold=HalfSpace, curvature=-1.0\n",
      "Hyperbolic HTensor([[-0.33891195,  0.19457309]]), manifold=HalfSpace, curvature=-1.0\n"
     ]
    }
   ],
   "source": [
    "x = MCHTensor([0.2, 0.1, 0.0], nc=3, manifold=\"Lorentz\")\n",
    "print(x.mobius_matvec(torch.arange(6).reshape(2, 3).float(), x.unsqueeze(0)))\n",
    "\n",
    "x = HTensor([0.2, 0.1, 0.0], manifold=\"Lorentz\")\n",
    "print(x.mobius_matvec(torch.arange(6).reshape(2, 3).float(), x.unsqueeze(0)))\n",
    "\n",
    "x = MCHTensor([0.2, 0.1, 0.5], nc=3, manifold=\"HalfSpace\")\n",
    "print(x.mobius_matvec(torch.arange(6).reshape(2, 3).float(), x.unsqueeze(0)))\n",
    "\n",
    "x = HTensor([0.2, 0.1, 0.5], manifold=\"HalfSpace\")\n",
    "print(x.mobius_matvec(torch.arange(6).reshape(2, 3).float(), x.unsqueeze(0)))\n"
   ]
  },
  {
   "cell_type": "code",
   "execution_count": 72,
   "metadata": {},
   "outputs": [
    {
     "name": "stdout",
     "output_type": "stream",
     "text": [
      "tensor([0.00048828])\n",
      "tensor([0.00048828])\n",
      "tensor([0.62236243])\n",
      "tensor([0.62236255])\n"
     ]
    }
   ],
   "source": [
    "x = MCHTensor([0.2, 0.1, 0.0], nc=3, manifold=\"Lorentz\")\n",
    "print(x.Hdist(MCHTensor([0.1, 0, 0.3], nc=3, manifold=\"Lorentz\")))\n",
    "\n",
    "x = HTensor([0.2, 0.1, 0.0], manifold=\"Lorentz\")\n",
    "print(x.Hdist(HTensor([0.1, 0, 0.3], manifold=\"Lorentz\")))\n",
    "\n",
    "x = MCHTensor([0.2, 0.1, 0.5], nc=3, manifold=\"HalfSpace\")\n",
    "print(x.Hdist(MCHTensor([0.1, 0, 0.3], nc=3, manifold=\"HalfSpace\")))\n",
    "\n",
    "x = HTensor([0.2, 0.1, 0.5], manifold=\"HalfSpace\")\n",
    "print(x.Hdist(HTensor([0.1, 0, 0.3], manifold=\"HalfSpace\")))\n"
   ]
  },
  {
   "cell_type": "code",
   "execution_count": 73,
   "metadata": {},
   "outputs": [
    {
     "name": "stdout",
     "output_type": "stream",
     "text": [
      "tensor([[[0., 0., 1.],\n",
      "         [0., 0., 1.]],\n",
      "\n",
      "        [[0., 0., 1.],\n",
      "         [0., 0., 1.]]])\n",
      "tensor([[[0., 0., 1.],\n",
      "         [0., 0., 1.]],\n",
      "\n",
      "        [[0., 0., 1.],\n",
      "         [0., 0., 1.]]])\n",
      "tensor([[[0., 1.],\n",
      "         [0., 1.]],\n",
      "\n",
      "        [[0., 1.],\n",
      "         [0., 1.]]])\n",
      "tensor([[[0., 1.],\n",
      "         [0., 1.]],\n",
      "\n",
      "        [[0., 1.],\n",
      "         [0., 1.]]])\n"
     ]
    }
   ],
   "source": [
    "x = MCHTensor([0.2, 0.1, 0.0], nc=3, manifold=\"Lorentz\")\n",
    "print(x.manifold.origin(2, 1, size=(2,2)))\n",
    "\n",
    "x = HTensor([0.2, 0.1, 0.0], manifold=\"Lorentz\")\n",
    "print(x.manifold.origin(2, 1, size=(2,2)))\n",
    "\n",
    "x = MCHTensor([0.2, 0.1, 0.0], nc=3, manifold=\"HalfSpace\")\n",
    "print(x.manifold.origin(2, 1, size=(2, 2)))\n",
    "\n",
    "x = HTensor([0.2, 0.1, 0.0], manifold=\"HalfSpace\")\n",
    "print(x.manifold.origin(2, 1, size=(2, 2)))\n"
   ]
  },
  {
   "cell_type": "code",
   "execution_count": 76,
   "metadata": {},
   "outputs": [
    {
     "name": "stdout",
     "output_type": "stream",
     "text": [
      "MCTensor([-0.03000000]), nc=3\n",
      "Hyperbolic HTensor([-0.03000000]), manifold=Lorentz, curvature=-1.0\n",
      "MCHTensor([2.88888860]), nc=3, manifold=HalfSpace, curvature=-1.0\n",
      "Hyperbolic HTensor([2.88888860]), manifold=HalfSpace, curvature=-1.0\n"
     ]
    }
   ],
   "source": [
    "x = MCHTensor([0.2, 0.1, 0.0], nc=3, manifold=\"Lorentz\")\n",
    "u = MCHTensor([0.2, 0.1, 0.3], nc=3, manifold=\"Lorentz\")\n",
    "v = MCHTensor([0.2, 0.2, 0.3], nc=3, manifold=\"Lorentz\")\n",
    "print(x.manifold.inner(u, v, x, 1.0))\n",
    "\n",
    "x = HTensor([0.2, 0.1, 0.0], manifold=\"Lorentz\")\n",
    "u = HTensor([0.2, 0.1, 0.3], manifold=\"Lorentz\")\n",
    "v = HTensor([0.2, 0.2, 0.3], manifold=\"Lorentz\")\n",
    "print(x.manifold.inner(u, v, x, 1.0))\n",
    "\n",
    "x = MCHTensor([0.2, 0.1, 0.3], nc=3, manifold=\"HalfSpace\")\n",
    "u = MCHTensor([0.2, 0.1, 0.4], nc=3, manifold=\"HalfSpace\")\n",
    "v = MCHTensor([0.2, 0.2, 0.5], nc=3, manifold=\"HalfSpace\")\n",
    "print(x.manifold.inner(u, v, x, 1.0))\n",
    "\n",
    "x = HTensor([0.2, 0.1, 0.3], manifold=\"HalfSpace\")\n",
    "u = HTensor([0.2, 0.1, 0.4], manifold=\"HalfSpace\")\n",
    "v = HTensor([0.2, 0.2, 0.5], manifold=\"HalfSpace\")\n",
    "print(x.manifold.inner(u, v, x, 1.0))\n"
   ]
  },
  {
   "cell_type": "code",
   "execution_count": 77,
   "metadata": {},
   "outputs": [
    {
     "name": "stdout",
     "output_type": "stream",
     "text": [
      "MCTensor([0.00031623]), nc=3\n",
      "Hyperbolic HTensor([0.00031623]), manifold=Lorentz, curvature=-1.0\n",
      "MCHTensor([1.87082875]), nc=3, manifold=HalfSpace, curvature=-1.0\n",
      "Hyperbolic HTensor([1.87082887]), manifold=HalfSpace, curvature=-1.0\n"
     ]
    }
   ],
   "source": [
    "x = MCHTensor([0.2, 0.1, 0.0], nc=3, manifold=\"Lorentz\")\n",
    "u = MCHTensor([0.2, 0.1, 0.3], nc=3, manifold=\"Lorentz\")\n",
    "print(x.manifold.norm_t(u, x, 1.0))\n",
    "\n",
    "x = HTensor([0.2, 0.1, 0.0], manifold=\"Lorentz\")\n",
    "u = HTensor([0.2, 0.1, 0.3], manifold=\"Lorentz\")\n",
    "print(x.manifold.norm_t(u, x, 1.0))\n",
    "\n",
    "x = MCHTensor([0.2, 0.1, 0.2], nc=3, manifold=\"HalfSpace\")\n",
    "u = MCHTensor([0.2, 0.1, 0.3], nc=3, manifold=\"HalfSpace\")\n",
    "print(x.manifold.norm_t(u, x, 1.0))\n",
    "\n",
    "x = HTensor([0.2, 0.1, 0.2], manifold=\"HalfSpace\")\n",
    "u = HTensor([0.2, 0.1, 0.3], manifold=\"HalfSpace\")\n",
    "print(x.manifold.norm_t(u, x, 1.0))\n"
   ]
  },
  {
   "cell_type": "code",
   "execution_count": 78,
   "metadata": {},
   "outputs": [
    {
     "name": "stdout",
     "output_type": "stream",
     "text": [
      "MCTensor([2.38418579e-07]), nc=3\n",
      "Hyperbolic HTensor([2.38418579e-07]), manifold=HalfSpace, curvature=-1.0\n",
      "MCHTensor([0.48045301]), nc=3, manifold=HalfSpace, curvature=-1.0\n",
      "Hyperbolic HTensor([0.48045301]), manifold=HalfSpace, curvature=-1.0\n"
     ]
    }
   ],
   "source": [
    "x = MCHTensor([0.2, 0.1, 0.0], nc=3, manifold=\"Lorentz\")\n",
    "y = MCHTensor([0.2, 0.1, 0.3], nc=3, manifold=\"Lorentz\")\n",
    "print(x.manifold.sqdist(u, x, 1.0))\n",
    "\n",
    "x = HTensor([0.2, 0.1, 0.0], manifold=\"Lorentz\")\n",
    "y = HTensor([0.2, 0.1, 0.3], manifold=\"Lorentz\")\n",
    "print(x.manifold.sqdist(u, x, 1.0))\n",
    "\n",
    "x = MCHTensor([0.2, 0.1, 0.15], nc=3, manifold=\"HalfSpace\")\n",
    "y = MCHTensor([0.2, 0.1, 0.3], nc=3, manifold=\"HalfSpace\")\n",
    "print(x.manifold.sqdist(u, x, 1.0))\n",
    "\n",
    "x = HTensor([0.2, 0.1, 0.15], manifold=\"HalfSpace\")\n",
    "y = HTensor([0.2, 0.1, 0.3], manifold=\"HalfSpace\")\n",
    "print(x.manifold.sqdist(u, x, 1.0))\n"
   ]
  },
  {
   "cell_type": "code",
   "execution_count": 79,
   "metadata": {},
   "outputs": [
    {
     "name": "stdout",
     "output_type": "stream",
     "text": [
      "MCTensor([0.00048828]), nc=3\n",
      "Hyperbolic HTensor([0.00048828]), manifold=HalfSpace, curvature=-1.0\n",
      "MCHTensor([0.69314718]), nc=3, manifold=HalfSpace, curvature=-1.0\n",
      "Hyperbolic HTensor([0.69314718]), manifold=HalfSpace, curvature=-1.0\n"
     ]
    }
   ],
   "source": [
    "x = MCHTensor([0.2, 0.1, 0.0], nc=3, manifold=\"Lorentz\")\n",
    "y = MCHTensor([0.2, 0.1, 0.3], nc=3, manifold=\"Lorentz\")\n",
    "print(x.manifold.distance(u, x, 1.0))\n",
    "\n",
    "x = HTensor([0.2, 0.1, 0.0], manifold=\"Lorentz\")\n",
    "y = HTensor([0.2, 0.1, 0.3], manifold=\"Lorentz\")\n",
    "print(x.manifold.distance(u, x, 1.0))\n",
    "\n",
    "x = MCHTensor([0.2, 0.1, 0.15], nc=3, manifold=\"HalfSpace\")\n",
    "y = MCHTensor([0.2, 0.1, 0.3], nc=3, manifold=\"HalfSpace\")\n",
    "print(x.manifold.distance(u, x, 1.0))\n",
    "\n",
    "x = HTensor([0.2, 0.1, 0.15], manifold=\"HalfSpace\")\n",
    "y = HTensor([0.2, 0.1, 0.3], manifold=\"HalfSpace\")\n",
    "print(x.manifold.distance(u, x, 1.0))\n"
   ]
  },
  {
   "cell_type": "code",
   "execution_count": 80,
   "metadata": {},
   "outputs": [
    {
     "name": "stdout",
     "output_type": "stream",
     "text": [
      "MCHTensor([0.18600000, 0.09300000, 0.27200001]), nc=3, manifold=Lorentz, curvature=-1.0\n",
      "Hyperbolic HTensor([ 0.23400001,  0.11700001, -0.23199999]), manifold=Lorentz, curvature=-1.0\n",
      "MCHTensor([[0.03200000, 0.01600000, 0.04800000]]), nc=3, manifold=HalfSpace, curvature=-1.0\n",
      "Hyperbolic HTensor([[0.03200000, 0.01600000, 0.04800000]]), manifold=HalfSpace, curvature=-1.0\n"
     ]
    }
   ],
   "source": [
    "x = MCHTensor([0.2, 0.1, 0.4], nc=3, manifold=\"Lorentz\")\n",
    "dx = MCHTensor([0.2, 0.1, 0.3], nc=3, manifold=\"Lorentz\")\n",
    "print(x.manifold.egrad2rgrad(x, dx, 1.0))\n",
    "\n",
    "x = HTensor([0.2, 0.1, 0.4], manifold=\"Lorentz\")\n",
    "dx = HTensor([0.2, 0.1, 0.3], manifold=\"Lorentz\")\n",
    "print(x.manifold.egrad2rgrad(x, dx, 1.0))\n",
    "\n",
    "x = MCHTensor([[0.2, 0.1, 0.4]], nc=3, manifold=\"HalfSpace\")\n",
    "dx = MCHTensor([[0.2, 0.1, 0.3]], nc=3, manifold=\"HalfSpace\")\n",
    "print(x.manifold.egrad2rgrad(x, dx, 1.0))\n",
    "\n",
    "x = HTensor([[0.2, 0.1, 0.4]], manifold=\"HalfSpace\")\n",
    "dx = HTensor([[0.2, 0.1, 0.3]], manifold=\"HalfSpace\")\n",
    "print(x.manifold.egrad2rgrad(x, dx, 1.0))\n"
   ]
  },
  {
   "cell_type": "code",
   "execution_count": 81,
   "metadata": {},
   "outputs": [
    {
     "name": "stdout",
     "output_type": "stream",
     "text": [
      "MCHTensor([0.20000005, 0.05000006, 0.21666673]), nc=3, manifold=Lorentz, curvature=-1.0\n",
      "Hyperbolic HTensor([0.20000005, 0.05000010, 0.21666674]), manifold=Lorentz, curvature=-1.0\n",
      "MCHTensor([[0.19567901, 0.05864198, 0.19135801]]), nc=3, manifold=HalfSpace, curvature=-1.0\n",
      "Hyperbolic HTensor([0.19567901, 0.05864199, 0.19135801]), manifold=HalfSpace, curvature=-1.0\n"
     ]
    }
   ],
   "source": [
    "x = MCHTensor([0.2, 0.3, 0.4], nc=3, manifold=\"Lorentz\")\n",
    "y = MCHTensor([0.3, 0.1, 0.3], nc=3, manifold=\"Lorentz\")\n",
    "v = MCHTensor([0.2, 0.05, 0.3], nc=3, manifold=\"Lorentz\")\n",
    "print(x.manifold.ptransp(x, y, v, 1.0))\n",
    "\n",
    "x = HTensor([0.2, 0.3, 0.4], manifold=\"Lorentz\")\n",
    "y = HTensor([0.3, 0.1, 0.3], manifold=\"Lorentz\")\n",
    "v = HTensor([0.2, 0.05, 0.3], manifold=\"Lorentz\")\n",
    "print(x.manifold.ptransp(x, y, v, 1.0))\n",
    "\n",
    "x = MCHTensor([0.2, 0.3, 0.4], nc=3, manifold=\"HalfSpace\")\n",
    "y = MCHTensor([0.3, 0.1, 0.3], nc=3, manifold=\"HalfSpace\")\n",
    "v = MCHTensor([0.2, 0.05, 0.2], nc=3, manifold=\"HalfSpace\")\n",
    "print(x.manifold.ptransp(x, y, v, 1.0))\n",
    "\n",
    "x = HTensor([0.2, 0.3, 0.4], manifold=\"HalfSpace\")\n",
    "y = HTensor([0.3, 0.1, 0.3], manifold=\"HalfSpace\")\n",
    "v = HTensor([0.2, 0.05, 0.2], manifold=\"HalfSpace\")\n",
    "print(x.manifold.ptransp(x, y, v, 1.0))\n"
   ]
  },
  {
   "cell_type": "code",
   "execution_count": 82,
   "metadata": {},
   "outputs": [
    {
     "name": "stdout",
     "output_type": "stream",
     "text": [
      "MCHTensor([ 0.14923078, -0.02615384,  0.05500000]), nc=3, manifold=Lorentz, curvature=-1.0\n",
      "Hyperbolic HTensor([ 0.14923078, -0.02615385,  0.05500000]), manifold=Lorentz, curvature=-1.0\n",
      "MCHTensor([[0.23379321, 0.10068983, 0.26761466]]), nc=3, manifold=HalfSpace, curvature=-1.0\n",
      "Hyperbolic HTensor([[0.23379359, 0.10069039, 0.26761448]]), manifold=HalfSpace, curvature=-1.0\n"
     ]
    }
   ],
   "source": [
    "x = MCHTensor([0.2, 0.3, 0.4], nc=3, manifold=\"Lorentz\")\n",
    "v = MCHTensor([0.2, 0.05, 0.3], nc=3, manifold=\"Lorentz\")\n",
    "print(x.manifold.ptransp0(x, v, 1.0))\n",
    "\n",
    "x = HTensor([0.2, 0.3, 0.4], manifold=\"Lorentz\")\n",
    "v = HTensor([0.2, 0.05, 0.3], manifold=\"Lorentz\")\n",
    "print(x.manifold.ptransp0(x, v, 1.0))\n",
    "\n",
    "x = MCHTensor([[0.2, 0.3, 0.4]], nc=3, manifold=\"HalfSpace\")\n",
    "v = MCHTensor([[0.2, 0.05, 0.3]], nc=3, manifold=\"HalfSpace\")\n",
    "print(x.manifold.ptransp0(x, v, 1.0))\n",
    "\n",
    "x = HTensor([[0.2, 0.3, 0.4]], manifold=\"HalfSpace\")\n",
    "v = HTensor([[0.2, 0.05, 0.3]], manifold=\"HalfSpace\")\n",
    "print(x.manifold.ptransp0(x, v, 1.0))"
   ]
  },
  {
   "attachments": {},
   "cell_type": "markdown",
   "metadata": {},
   "source": [
    "### Attentions:\n",
    "1. test standard functions in MCTensor work\n",
    "2. test HTensor functions\n",
    "3. include arcosh, arsinh"
   ]
  },
  {
   "attachments": {},
   "cell_type": "markdown",
   "metadata": {},
   "source": [
    "### Test MCHTensor function \n",
    "In order to test a function, take it out from manifold definition, and run line by line to go through, \n",
    "until it returns a correct result, cross-check with torch results, below is an example;"
   ]
  },
  {
   "cell_type": "code",
   "execution_count": 60,
   "metadata": {},
   "outputs": [],
   "source": [
    "def sq_norm(x, keepdim=True):\n",
    "    return torch.norm(x, p=2, dim=-1, keepdim=keepdim) ** 2\n",
    "\n",
    "def my_proj(x:Tensor, c:Union[float,Tensor]) -> Tensor:\n",
    "    \"\"\"Project a point outside manifold to the Lorentz manifold \"\"\"\n",
    "    d = x.size(-1) - 1\n",
    "    y = x.narrow(-1, 0, d)\n",
    "    print(y.shape)\n",
    "    y_sqnorm = sq_norm(y)[..., 0] \n",
    "    print(y_sqnorm.shape)\n",
    "    mask = torch.ones_like(x)\n",
    "    mask[..., -1] = 0\n",
    "    vals = torch.zeros_like(x)\n",
    "    print(vals[..., -1])\n",
    "    print((1. / c + y_sqnorm).shape)\n",
    "    # print(torch.sqrt().shape)\n",
    "    print(torch.sqrt(torch.clamp(1. / c + y_sqnorm, min=1e-7)))\n",
    "    vals[..., -1] = torch.sqrt(torch.clamp(1. / c + y_sqnorm, min=1e-7))\n",
    "    return vals + mask * x"
   ]
  },
  {
   "attachments": {},
   "cell_type": "markdown",
   "metadata": {},
   "source": [
    "### Line by line walk through the function"
   ]
  },
  {
   "cell_type": "code",
   "execution_count": 61,
   "metadata": {},
   "outputs": [
    {
     "name": "stdout",
     "output_type": "stream",
     "text": [
      "torch.Size([2])\n",
      "torch.Size([])\n",
      "MCTensor(0.), nc=2\n",
      "torch.Size([])\n",
      "MCTensor(1.02498877), nc=2\n"
     ]
    }
   ],
   "source": [
    "x = MCHTensor([0.2, 0.1, 0.0], nc=2, manifold=\"Lorentz\")\n",
    "x.res.data.add_(1e-3)\n",
    "x.normalize_()\n",
    "proj_x = my_proj(x, abs(x.curvature))\n",
    "d = x.size(-1) - 1\n",
    "y = x.narrow(-1, 0, d)\n",
    "# print(y)\n",
    "y_sqnorm = sq_norm(y)[..., 0]\n",
    "# print(y_sqnorm)\n",
    "mask = torch.ones_like(x)\n",
    "mask[..., -1] = 0\n",
    "vals = torch.zeros_like(x)\n",
    "result = vals + mask * x\n",
    "# print(result)"
   ]
  },
  {
   "cell_type": "code",
   "execution_count": 83,
   "metadata": {},
   "outputs": [
    {
     "name": "stdout",
     "output_type": "stream",
     "text": [
      "torch.Size([2])\n",
      "torch.Size([])\n",
      "MCTensor(0.), nc=2\n",
      "torch.Size([])\n",
      "MCTensor(1.02498877), nc=2\n"
     ]
    }
   ],
   "source": [
    "x = MCHTensor([0.2, 0.1, 0.3], nc=2, manifold=\"HalfSpace\")\n",
    "x.res.data.add_(1e-3)\n",
    "x.normalize_()\n",
    "proj_x = my_proj(x, abs(x.curvature))\n",
    "d = x.size(-1) - 1\n",
    "y = x.narrow(-1, 0, d)\n",
    "# print(y)\n",
    "y_sqnorm = sq_norm(y)[..., 0]\n",
    "# print(y_sqnorm)\n",
    "mask = torch.ones_like(x)\n",
    "mask[..., -1] = 0\n",
    "vals = torch.zeros_like(x)\n",
    "result = vals + mask * x\n",
    "# print(result)"
   ]
  },
  {
   "attachments": {},
   "cell_type": "markdown",
   "metadata": {},
   "source": [
    "### call the corresponding function"
   ]
  },
  {
   "cell_type": "code",
   "execution_count": 62,
   "metadata": {},
   "outputs": [
    {
     "name": "stdout",
     "output_type": "stream",
     "text": [
      "MCHTensor([0.20100001, 0.10100000, 1.02498877]), nc=2, manifold=Lorentz, curvature=-1.0 tensor([[-1.97906047e-09],\n",
      "        [-1.97906047e-09],\n",
      "        [ 3.15145243e-08]])\n"
     ]
    }
   ],
   "source": [
    "y = x.proj()\n",
    "print(y, y.res)"
   ]
  },
  {
   "attachments": {},
   "cell_type": "markdown",
   "metadata": {},
   "source": [
    "#### please test through all manifolds functions, check, inner, ...."
   ]
  },
  {
   "cell_type": "code",
   "execution_count": 63,
   "metadata": {},
   "outputs": [
    {
     "data": {
      "text/plain": [
       "MCHTensor([2.00000003e-01, 1.00000001e-01, 5.00000000e+04]), nc=2, manifold=Lorentz, curvature=-1"
      ]
     },
     "execution_count": 63,
     "metadata": {},
     "output_type": "execute_result"
    }
   ],
   "source": [
    "x = torch.tensor([0.2, 0.1, 0.05])\n",
    "hx = HTensor(x, manifold='Lorentz', curvature=-1)\n",
    "mc_x = MCHTensor([0.2, 0.1, 0.0], nc=2, manifold=\"Lorentz\", curvature=-1)\n",
    "\n",
    "def proj_tan(x:Tensor, v:Tensor, c:Union[float,Tensor]) -> Tensor:\n",
    "    # not the standard way as x + c<x, dx>_L * x, here only modify the last dimension\n",
    "    d = x.size(-1) - 1\n",
    "    ux = torch.sum(x.narrow(-1, 0, d) * v.narrow(-1, 0, d), dim=-1)\n",
    "    mask = torch.ones_like(v)\n",
    "    mask[..., -1] = 0\n",
    "    vals = torch.zeros_like(v)\n",
    "    vals[..., -1] = ux / torch.clamp(x[..., -1], min=1e-6)\n",
    "    return vals + mask * v\n",
    "\n",
    "\n",
    "proj_tan(mc_x, mc_x, 1)"
   ]
  },
  {
   "attachments": {},
   "cell_type": "markdown",
   "metadata": {},
   "source": [
    "#### After testing, move the MCHTensor definitions to MCHTensor.py"
   ]
  },
  {
   "cell_type": "code",
   "execution_count": null,
   "metadata": {},
   "outputs": [],
   "source": []
  },
  {
   "cell_type": "code",
   "execution_count": null,
   "metadata": {},
   "outputs": [],
   "source": []
  }
 ],
 "metadata": {
  "kernelspec": {
   "display_name": "venv",
   "language": "python",
   "name": "python3"
  },
  "language_info": {
   "codemirror_mode": {
    "name": "ipython",
    "version": 3
   },
   "file_extension": ".py",
   "mimetype": "text/x-python",
   "name": "python",
   "nbconvert_exporter": "python",
   "pygments_lexer": "ipython3",
   "version": "3.10.9"
  }
 },
 "nbformat": 4,
 "nbformat_minor": 4
}
